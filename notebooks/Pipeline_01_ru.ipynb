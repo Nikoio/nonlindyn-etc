{
 "cells": [
  {
   "cell_type": "markdown",
   "metadata": {},
   "source": [
    "# Обработка временных рядов\n",
    "\n",
    "В качестве примера используются данные спутника ACE (ESA), представляющие из себя набор временных рядов различных измеряемых спутником величин. Для дальнейшего рассмотрения выбирается один из рядов, вопрос связи между рядами не рассматривается.\n",
    "\n",
    "Можно выделить 3 этапа работы с данными:\n",
    "1. Построение статистики пропусков, оценка возможности и параметров их заполнения, интерполяция.\n",
    "2. Нелинейно-динамический анализ непрерывных отрезков данных.\n",
    "3. Топологический анализ полученных фазовых портретов.\n",
    "\n",
    "Кроме того, описаны некоторые технические и вспомогательные этапы обработки."
   ]
  },
  {
   "cell_type": "markdown",
   "metadata": {},
   "source": [
    "## Импорты сторонних библиотек"
   ]
  },
  {
   "cell_type": "code",
   "execution_count": 64,
   "metadata": {},
   "outputs": [],
   "source": [
    "import numpy as np\n",
    "import pandas as pd\n",
    "import matplotlib.pyplot as plt\n",
    "\n",
    "from teaspoon.parameter_selection.MI_delay import MI_for_delay\n",
    "from teaspoon.parameter_selection.MsPE import MsPE_tau, MsPE_n\n",
    "from teaspoon.parameter_selection.FNN_n import FNN_n\n",
    "\n",
    "from nolds import lyap_r, lyap_e\n",
    "\n",
    "import teaspoon.MakeData.DynSysLib.DynSysLib as DSL\n",
    "\n",
    "from nolitsa import data, dimension, utils\n",
    "\n",
    "import re\n",
    "\n",
    "from time import time"
   ]
  },
  {
   "cell_type": "markdown",
   "metadata": {},
   "source": [
    "## Чтение данных\n",
    "\n",
    "Исходные текстовые файлы лежат в папке `data_csv_folder`, бинарные -- в `data_bin_folder`. \n",
    "На выходе данного этапа в `ts` должен лежать исследуемый временной ряд."
   ]
  },
  {
   "cell_type": "code",
   "execution_count": 2,
   "metadata": {},
   "outputs": [],
   "source": [
    "# Пути до файлов и папок\n",
    "data_csv_folder = '../data/csv/'\n",
    "data_bin_folder = '../data/bin/'\n",
    "\n",
    "csv_file = 'sc_merge_min_6WdR366jgc_KP2.lst'"
   ]
  },
  {
   "cell_type": "code",
   "execution_count": 3,
   "metadata": {},
   "outputs": [],
   "source": [
    "# Список названий переменных в таблице с данными и выбор конкретной переменной\n",
    "keys = ['BX_GSE', 'BY_GSE', 'BZ_GSE', 'BY_GSM', 'BZ_GSM', 'Scalar_B', \n",
    "        'Vx', 'Vy', 'Vz', 'Proton_Density', 'Temperature']\n",
    "key = keys[0]"
   ]
  },
  {
   "cell_type": "code",
   "execution_count": 4,
   "metadata": {},
   "outputs": [],
   "source": [
    "# Чтение из файла в dataframe\n",
    "df = pd.read_csv(data_csv_folder + csv_file, sep=\"\\s+\")\n",
    "\n",
    "# Замена пропущенных значений на np.nan\n",
    "df = df.replace({'Scalar_B':{9999.99:np.nan}, 'Flow_speed':{99999.9:np.nan},\n",
    "                   'Proton_Density':{999.99:np.nan}, 'Temperature':{9999999.0:np.nan},\n",
    "                'BX_GSE':{9999.99:np.nan}, 'BY_GSE':{9999.99:np.nan}, 'BZ_GSE':{9999.99:np.nan}, \n",
    "                 'BY_GSM':{9999.99:np.nan}, 'BZ_GSM':{9999.99:np.nan}, 'Vx':{99999.9:np.nan}, \n",
    "                 'Vy':{99999.9:np.nan}, 'Vz':{99999.9:np.nan}})"
   ]
  },
  {
   "cell_type": "code",
   "execution_count": 5,
   "metadata": {},
   "outputs": [],
   "source": [
    "# Преобразование колонки dataframe'а в numpy.array\n",
    "ts = df[key].to_numpy()\n",
    "\n",
    "# ts_dict = {}\n",
    "\n",
    "# for _key in keys:\n",
    "#     ts_dict[_key] = df[_key].to_numpy()"
   ]
  },
  {
   "cell_type": "markdown",
   "metadata": {},
   "source": [
    "## Подготовка данных"
   ]
  },
  {
   "cell_type": "markdown",
   "metadata": {},
   "source": [
    "### Статистика пропусков"
   ]
  },
  {
   "cell_type": "code",
   "execution_count": 41,
   "metadata": {},
   "outputs": [],
   "source": [
    "# Доделать учет первого и последнего отрезков\n",
    "def get_addresses(ts : np.ndarray, \n",
    "                  missing : bool = False, \n",
    "                  statmode : bool = False, \n",
    "                  smallest : int = 1, \n",
    "                  biggest : int = 50,\n",
    "                 ) -> tuple:\n",
    "    '''Возвращает массив пар адресов отрезков данных и длин пропусков в них.\n",
    "    ts, np.ndarray - временной ряд.\n",
    "    missing, bool - выбор, что именно считать, по умолчанию считает адреса непрерывных данных (False).\n",
    "    statmode, bool - учитывать ли ограничения на размер отрезков (False) или вернуть статистику по ним (True). \n",
    "    По умолчанию False. Если True, то аргументы smallest и biggest не учитываются.\n",
    "    smallest, int - минимальный размер отрезка.\n",
    "    biggest, int - максимальный размер отрезка.'''\n",
    "    idxs = np.argwhere(np.isnan(ts) != missing).T[0] # получаем адреса всех отрезков\n",
    "    idx_diff = idxs[1:] - idxs[:-1] # получаем расстояния между соседними отрезками\n",
    "    idx_diff = idx_diff - 1 # учитываем, что расстояние между i и i+1 нулевое\n",
    "    idx_diff_nz = idx_diff[np.nonzero(idx_diff)] # массив ненулевых длин\n",
    "    \n",
    "    if statmode: # все ненулевые длины отрезков\n",
    "        arr_index = np.argwhere((idx_diff > 0) != 0).T[0]\n",
    "    else: # только те, которые удовлетворяют фильтру по длине\n",
    "        arr_index = np.argwhere((idx_diff <= biggest) * (idx_diff >= smallest) != 0).T[0]\n",
    "        \n",
    "    addresses = []\n",
    "\n",
    "    for i in arr_index:\n",
    "        start = idxs[i] + 1 # последний индекс не-отрезка + 1\n",
    "        stop = idxs[i+1] # первый индекс следующего не-отрезка\n",
    "        addresses.append([start, stop]) # добавляем пару\n",
    "    addresses = np.array(addresses)\n",
    "    return addresses, idx_diff_nz"
   ]
  },
  {
   "cell_type": "code",
   "execution_count": 19,
   "metadata": {},
   "outputs": [
    {
     "data": {
      "image/png": "[encoded data removed]",
      "text/plain": [
       "<Figure size 640x480 with 1 Axes>"
      ]
     },
     "metadata": {},
     "output_type": "display_data"
    }
   ],
   "source": [
    "count_misses = True # чтобы не менять везде\n",
    "\n",
    "# получили адреса и длины\n",
    "_, nz_lengths = get_addresses(ts, missing=count_misses, statmode=True)\n",
    "# посчитали все уникальные значения\n",
    "hist_missing = np.unique(nz_lengths, return_counts=True)\n",
    "\n",
    "plt.plot(hist_missing[0] + 1, hist_missing[1], 'ro')\n",
    "plt.yscale('log')\n",
    "plt.xscale('log')\n",
    "plt.grid()\n",
    "plt.grid(b=True, which='both', axis='y')\n",
    "# plt.xlim((0,200)) # просто для finetuning\n",
    "if count_misses:\n",
    "    plt.xlabel('Длина пропуска')\n",
    "else:\n",
    "    plt.xlabel('Длина отрезка без пропусков')\n",
    "plt.ylabel('Количество отрезков')\n",
    "plt.show()\n",
    "plt.style.use('default')"
   ]
  },
  {
   "cell_type": "markdown",
   "metadata": {},
   "source": [
    "Здесь очевидна прямая, пересекающая уровень 1, ограничение на длину интерполируемого пропуска сверху есть смысл брать именно по месту пересечения уровня 1."
   ]
  },
  {
   "cell_type": "markdown",
   "metadata": {},
   "source": [
    "### Интерполяция"
   ]
  },
  {
   "cell_type": "code",
   "execution_count": 46,
   "metadata": {},
   "outputs": [],
   "source": [
    "def euristic_interpolate(ts: np.ndarray,\n",
    "                         addresses: np.ndarray,\n",
    "                         func: callable,\n",
    "                         depth: int = 50,\n",
    "                         mode: str = 'center',\n",
    "                        ) -> np.ndarray:\n",
    "    '''\n",
    "    Эта фунция заполняет пропуски в данных по их адресам с помощью функции func,\n",
    "    применяемой в окне. Заполняемая точка может быть в центре, начале или конце\n",
    "    заполняемого диапазона.\n",
    "    ts, np.ndarray - временной ряд.\n",
    "    addresses, np.ndarray - адреса отрезков для заполнения.\n",
    "    func, callable - функция, принимающая временной ряд, \n",
    "    индекс пропущенной точки, ширину окна и режим работы (центр, начало, конец).\n",
    "    depth, int - ширина окна (передадутся в func), \n",
    "    должен быть не менее max(stop - start) * 2 + 1.\n",
    "    mode, str - режим работы (передадутся в func).\n",
    "    '''\n",
    "    arr_res = np.array(ts, copy=True)\n",
    "    for diapason in addresses:\n",
    "        for address in range(diapason[0], diapason[1]):\n",
    "            arr_res[address] = func(ts, address, depth, mode)\n",
    "    return arr_res"
   ]
  },
  {
   "cell_type": "code",
   "execution_count": 48,
   "metadata": {},
   "outputs": [],
   "source": [
    "def meanval(ts: np.ndarray,\n",
    "                   index: int,\n",
    "                   depth: int = 50,\n",
    "                   mode : str = 'center'\n",
    "                  ) -> float:\n",
    "    '''\n",
    "    Эта фунция записывает в точку среднее значение по окну.\n",
    "    ts, np.ndarray - временной ряд. \n",
    "    depth, int - ширина окна.\n",
    "    mode, str - режим работы.\n",
    "    '''\n",
    "    length = ts.shape[0]\n",
    "    if mode == 'center': # рекомендуется по умолчанию\n",
    "        index_l = index - np.min([index, depth//2])\n",
    "        index_h = index + np.min([length-index, depth//2])\n",
    "        return np.nanmean(ts[index_l: index_h])\n",
    "    elif mode == 'beginning': # использовать с осторожностью\n",
    "        index_l = index\n",
    "        index_h = index + np.min([length-index, depth])\n",
    "        return np.nanmean(ts[index_l: index_h])\n",
    "    elif mode == 'end': # для реального времени, без истории бесполезен\n",
    "        index_l = index - np.min([index, depth])\n",
    "        index_h = index + 1\n",
    "        return np.nanmean(ts[index_l: index_h])\n",
    "    return None"
   ]
  },
  {
   "cell_type": "code",
   "execution_count": 49,
   "metadata": {},
   "outputs": [],
   "source": [
    "def get_uninterrupted_data(ts, addresses):\n",
    "    '''\n",
    "    Просто обертка для получения списка по адресам\n",
    "    '''\n",
    "    data = []\n",
    "    for address in addresses:\n",
    "        data.append(ts[address[0]:address[1]])\n",
    "    return data"
   ]
  },
  {
   "cell_type": "code",
   "execution_count": 50,
   "metadata": {},
   "outputs": [
    {
     "data": {
      "text/plain": [
       "(array([], dtype=float64), array([], dtype=int64))"
      ]
     },
     "execution_count": 50,
     "metadata": {},
     "output_type": "execute_result"
    }
   ],
   "source": [
    "tstts = np.array([1,1,1,np.nan,np.nan,np.nan,3,4,5])\n",
    "get_addresses(tstts, missing=False)"
   ]
  },
  {
   "cell_type": "code",
   "execution_count": 91,
   "metadata": {},
   "outputs": [
    {
     "data": {
      "text/plain": [
       "[array([-2.49, -2.79, -3.05, ..., -3.78, -3.6 , -3.61])]"
      ]
     },
     "execution_count": 91,
     "metadata": {},
     "output_type": "execute_result"
    }
   ],
   "source": [
    "max_len = 50\n",
    "\n",
    "adrs, _ = get_addresses(ts, missing=False, biggest=max_len)\n",
    "resulting_ts = euristic_interpolate(ts, adrs, meanval, max_len*2+1, 'center')\n",
    "uninterrupted_adrs, _ = get_addresses(ts, smallest=1000, biggest=500000)\n",
    "uninterrupted_data = get_uninterrupted_data(resulting_ts, uninterrupted_adrs)\n",
    "uninterrupted_data"
   ]
  },
  {
   "cell_type": "markdown",
   "metadata": {},
   "source": [
    "## Нелинейно-динамический анализ"
   ]
  },
  {
   "cell_type": "code",
   "execution_count": null,
   "metadata": {},
   "outputs": [],
   "source": [
    "def process_ts(ts, window=1000, step=50):\n",
    "    \n",
    "    # get the window size\n",
    "\n",
    "    idxs = [[start, stop] for start, stop in zip(\n",
    "                                                 range(0, ts.shape[0], step), \n",
    "                                                 range(window, ts.shape[0], step)\n",
    "                                                )]\n",
    "    idxs = np.array(idxs)\n",
    "\n",
    "    lyap_rs = []\n",
    "    lyap_es = []\n",
    "    ns = []\n",
    "    taus = []\n",
    "\n",
    "    dims = np.arange(1, 12)\n",
    "\n",
    "    # loop the window through ts\n",
    "\n",
    "    for idx in idxs:\n",
    "        try:\n",
    "            tau = MI_for_delay(ts[idx[0]: idx[1]], method='kraskov 2')\n",
    "            E, Es = dimension.afn(ts[idx[0]: idx[1]], tau=tau, dim=dims)\n",
    "            E1, E2 = E[1:] / E[:-1], Es[1:] / Es[:-1]\n",
    "            dim = dims[np.argwhere(np.abs(E1 - 1) < 0.2)[0,0]]\n",
    "\n",
    "            le = lyap_e(ts[idx[0]: idx[1]], emb_dim=dim, tau=tau, matrix_dim=dim)\n",
    "            lr = lyap_r(ts[idx[0]: idx[1]], emb_dim=dim, tau=tau)\n",
    "\n",
    "            taus.append(tau)\n",
    "            ns.append(dim)\n",
    "            lyap_es.append(le)\n",
    "            lyap_rs.append(lr)\n",
    "        except:\n",
    "            taus.append(np.nan)\n",
    "            ns.append(np.nan)\n",
    "            lyap_es.append(np.nan)\n",
    "            lyap_rs.append(np.nan)\n",
    "\n",
    "    out = {\n",
    "        'window': window,\n",
    "        'step': step,\n",
    "        't': idxs[:, 1],\n",
    "        'dimension': ns,\n",
    "        'delay': taus,\n",
    "        'rosenstein_lyapunov': lyap_rs,\n",
    "        'eckmann_lyapunov': lyap_es\n",
    "    }\n",
    "    \n",
    "    return out"
   ]
  },
  {
   "cell_type": "code",
   "execution_count": null,
   "metadata": {},
   "outputs": [],
   "source": [
    "results = []\n",
    "\n",
    "for item in uninterrupted_data:\n",
    "    try:\n",
    "        results.append(process_ts(item, window=1000, step=1))\n",
    "    except:\n",
    "        results.append({})\n",
    "        \n",
    "time_sec = round(time())"
   ]
  },
  {
   "cell_type": "code",
   "execution_count": null,
   "metadata": {},
   "outputs": [],
   "source": [
    "# запишем бинарник с результатами\n",
    "import pickle\n",
    "with open(f'uninterrupted_{key}_{time_sec}.pkl', 'wb') as pkl:\n",
    "    pickle.dump(results, pkl)"
   ]
  },
  {
   "cell_type": "code",
   "execution_count": null,
   "metadata": {},
   "outputs": [],
   "source": [
    "# прочитаем, чтобы проверить, что все ок\n",
    "import pickle\n",
    "with open(f'uninterrupted_{key}_{time_sec}.pkl', 'rb') as pkl:\n",
    "    read_res = pickle.load(pkl)"
   ]
  },
  {
   "cell_type": "markdown",
   "metadata": {},
   "source": [
    "## Топологический анализ фазового портрета временного ряда (TDA)"
   ]
  },
  {
   "cell_type": "code",
   "execution_count": null,
   "metadata": {},
   "outputs": [],
   "source": []
  },
  {
   "cell_type": "markdown",
   "metadata": {},
   "source": [
    "## Выводы"
   ]
  },
  {
   "cell_type": "code",
   "execution_count": null,
   "metadata": {},
   "outputs": [],
   "source": []
  },
  {
   "cell_type": "markdown",
   "metadata": {},
   "source": [
    "## Источники"
   ]
  },
  {
   "cell_type": "markdown",
   "metadata": {},
   "source": [
    "1. "
   ]
  }
 ],
 "metadata": {
  "kernelspec": {
   "display_name": "Python 3",
   "language": "python",
   "name": "python3"
  },
  "language_info": {
   "codemirror_mode": {
    "name": "ipython",
    "version": 3
   },
   "file_extension": ".py",
   "mimetype": "text/x-python",
   "name": "python",
   "nbconvert_exporter": "python",
   "pygments_lexer": "ipython3",
   "version": "3.7.6"
  }
 },
 "nbformat": 4,
 "nbformat_minor": 4
}
