{
 "cells": [
  {
   "cell_type": "code",
   "execution_count": 1,
   "metadata": {},
   "outputs": [],
   "source": [
    "import numpy as np\n",
    "import pandas as pd\n",
    "import matplotlib.pyplot as plt"
   ]
  },
  {
   "cell_type": "markdown",
   "metadata": {},
   "source": [
    "## Bynthgjkzwbz"
   ]
  },
  {
   "cell_type": "code",
   "execution_count": 2,
   "metadata": {},
   "outputs": [],
   "source": [
    "# Interpolation core functions\n",
    "\n",
    "def MAI(ts, addresses, func, depth=50, mode='center'):\n",
    "    '''\n",
    "    depth should be no less than (maximum length of adresses) * 2 + 1\n",
    "    '''\n",
    "    arr_res = np.array(ts, copy=True)\n",
    "    for diapason in addresses:\n",
    "        for address in range(diapason[0], diapason[1]):\n",
    "            arr_res[address] = func(ts, address, depth)\n",
    "    return arr_res\n",
    "            \n",
    "\n",
    "def meanval_center(ts, index, depth=50):\n",
    "    length = len(ts)\n",
    "    index_l = index - np.min([index, depth//2])\n",
    "    index_h = index + np.min([length-index, depth//2])\n",
    "    return np.nanmean(ts[index_l: index_h])"
   ]
  },
  {
   "cell_type": "code",
   "execution_count": 3,
   "metadata": {},
   "outputs": [
    {
     "name": "stdout",
     "output_type": "stream",
     "text": [
      "    Year  Day  Hour  Minute  Scalar_B  BX_GSE  BY_GSE  BZ_GSE  BY_GSM  BZ_GSM  \\\n",
      "0   2014    1     0       0      5.03   -1.07    4.28   -2.39    4.75   -1.22   \n",
      "1   2014    1     0       1      5.03   -1.00    4.31   -2.39    4.78   -1.21   \n",
      "2   2014    1     0       2      5.02   -1.11    4.29   -2.35    4.75   -1.18   \n",
      "3   2014    1     0       3      5.06   -1.15    4.14   -2.66    4.68   -1.52   \n",
      "4   2014    1     0       4      5.10   -0.98    4.27   -2.60    4.79   -1.43   \n",
      "5   2014    1     0       5      4.99   -1.05    3.98   -2.81    4.56   -1.70   \n",
      "6   2014    1     0       6      5.02   -0.95    3.76   -3.17    4.44   -2.11   \n",
      "7   2014    1     0       7      5.02   -1.05    3.42   -3.51    4.20   -2.53   \n",
      "8   2014    1     0       8      5.05   -1.02    3.25   -3.70    4.08   -2.75   \n",
      "9   2014    1     0       9      4.86   -0.45    4.55   -1.46    4.77   -0.26   \n",
      "10  2014    1     0      10      4.94   -0.26    4.77   -1.16    4.91    0.09   \n",
      "11  2014    1     0      11      4.97   -0.31    4.77   -1.28    4.94   -0.03   \n",
      "12  2014    1     0      12      4.97    0.12    4.85   -1.01    4.95    0.25   \n",
      "13  2014    1     0      13      4.95   -0.07    4.83   -1.09    4.95    0.17   \n",
      "14  2014    1     0      14      4.89    0.14    4.76   -1.11    4.89    0.13   \n",
      "15  2014    1     0      15      4.90   -0.08    4.74   -1.17    4.88    0.07   \n",
      "16  2014    1     0      16      4.88   -0.28    4.81   -0.73    4.84    0.51   \n",
      "17  2014    1     0      17      4.90   -0.29    4.84   -0.64    4.84    0.60   \n",
      "18  2014    1     0      18      4.91   -0.37    4.84   -0.63    4.84    0.61   \n",
      "19  2014    1     0      19      4.91   -0.37    4.84   -0.63    4.84    0.61   \n",
      "20  2014    1     0      20      4.92    0.59    4.78   -0.18    4.67    1.03   \n",
      "21  2014    1     0      21      4.92    0.39    4.86   -0.52    4.83    0.72   \n",
      "22  2014    1     0      22      4.86   -0.86    4.54   -1.39    4.74   -0.21   \n",
      "23  2014    1     0      23      4.87   -0.36    4.57   -0.91    4.65    0.27   \n",
      "24  2014    1     0      24      4.77   -0.93    4.35   -0.94    4.45    0.18   \n",
      "\n",
      "    Flow_speed     Vx    Vy    Vz  Proton_Density  Temperature  \n",
      "0          NaN    NaN   NaN   NaN             NaN          NaN  \n",
      "1          NaN    NaN   NaN   NaN             NaN          NaN  \n",
      "2          NaN    NaN   NaN   NaN             NaN          NaN  \n",
      "3          NaN    NaN   NaN   NaN             NaN          NaN  \n",
      "4        386.2 -385.8 -13.0 -12.3            6.29     109948.0  \n",
      "5        386.2 -385.8 -13.0 -12.3            6.29     109948.0  \n",
      "6        385.8 -385.5 -11.6  -9.1            6.19     106120.0  \n",
      "7        385.8 -385.5 -11.6  -9.1            6.19     106113.0  \n",
      "8          NaN    NaN   NaN   NaN             NaN          NaN  \n",
      "9        390.7 -390.0 -13.7 -18.0            6.75     109227.0  \n",
      "10       390.5 -389.8 -13.9 -18.1            6.67     108533.0  \n",
      "11       389.2 -388.4 -15.3 -18.6            6.04     102745.0  \n",
      "12       392.5 -391.7 -14.4 -20.7            6.12     105179.0  \n",
      "13       394.1 -393.3 -13.9 -21.7            6.16     106367.0  \n",
      "14       393.3 -392.5 -12.6 -22.2            6.36      98499.0  \n",
      "15       393.2 -392.4 -12.5 -22.3            6.38      97625.0  \n",
      "16       393.2 -392.4 -12.5 -22.3            6.38      97625.0  \n",
      "17         NaN    NaN   NaN   NaN             NaN          NaN  \n",
      "18       391.1 -390.2 -11.5 -23.6            6.39     105910.0  \n",
      "19       391.1 -390.2 -11.5 -23.6            6.39     105910.0  \n",
      "20       391.1 -390.2 -11.5 -23.6            6.39     105910.0  \n",
      "21         NaN    NaN   NaN   NaN             NaN          NaN  \n",
      "22       383.8 -382.9 -20.2 -15.8            6.84     112646.0  \n",
      "23       385.0 -384.0 -19.3 -19.4            6.49     104741.0  \n",
      "24       385.9 -384.8 -18.1 -22.5            6.20      98790.0  \n"
     ]
    },
    {
     "data": {
      "text/plain": [
       "(525600, 16)"
      ]
     },
     "execution_count": 3,
     "metadata": {},
     "output_type": "execute_result"
    }
   ],
   "source": [
    "# Addresses specific\n",
    "\n",
    "df = pd.read_csv('sc_merge_min_6WdR366jgc_KP2.lst', sep=\"\\s+\")\n",
    "\n",
    "df = df.replace({'Scalar_B':{9999.99:np.nan}, 'Flow_speed':{99999.9:np.nan},\n",
    "                   'Proton_Density':{999.99:np.nan}, 'Temperature':{9999999.0:np.nan},\n",
    "                'BX_GSE':{9999.99:np.nan}, 'BY_GSE':{9999.99:np.nan}, 'BZ_GSE':{9999.99:np.nan}, \n",
    "                 'BY_GSM':{9999.99:np.nan}, 'BZ_GSM':{9999.99:np.nan}, 'Vx':{99999.9:np.nan}, \n",
    "                 'Vy':{99999.9:np.nan}, 'Vz':{99999.9:np.nan}})\n",
    "\n",
    "print(df.head(25))\n",
    "df.shape"
   ]
  },
  {
   "cell_type": "code",
   "execution_count": 4,
   "metadata": {},
   "outputs": [],
   "source": [
    "# Scalar_B-like series\n",
    "Scalar_B = df['Scalar_B'].to_numpy()\n",
    "BX_GSE = df['BX_GSE'].to_numpy()\n",
    "BY_GSE = df['BY_GSE'].to_numpy()\n",
    "BZ_GSE = df['BZ_GSE'].to_numpy()\n",
    "BY_GSM = df['BY_GSM'].to_numpy()\n",
    "BZ_GSM = df['BZ_GSM'].to_numpy()\n",
    "Vx = df['Vx'].to_numpy()\n",
    "Vy = df['Vy'].to_numpy()\n",
    "Vz = df['Vz'].to_numpy()\n",
    "# Proton_Density-like series\n",
    "# Proton_Density = df['Proton_Density'].to_numpy()\n",
    "# Flow_speed = df['Flow_speed'].to_numpy()\n",
    "# Temperature = df['Temperature'].to_numpy()"
   ]
  },
  {
   "cell_type": "code",
   "execution_count": 5,
   "metadata": {},
   "outputs": [],
   "source": [
    "def get_addresses(ts, smallest=1, biggest=50):\n",
    "    idxs_missing = np.argwhere(np.isnan(ts) == False).T[0]\n",
    "    idx_diff_missing = idxs_missing[1:] - idxs_missing[:-1]\n",
    "    idx_diff_missing = idx_diff_missing - 1\n",
    "    idx_diff_missing_nz = idx_diff_missing[np.nonzero(idx_diff_missing)]\n",
    "    arr_index = np.argwhere((idx_diff_missing <= biggest) * (idx_diff_missing >= smallest) != 0).T[0]\n",
    "    addresses = []\n",
    "\n",
    "    for i in arr_index:\n",
    "        start = idxs_missing[i] + 1\n",
    "        stop = idxs_missing[i+1]\n",
    "        addresses.append([start, stop])\n",
    "    addresses = np.array(addresses)\n",
    "    return addresses"
   ]
  },
  {
   "cell_type": "code",
   "execution_count": 6,
   "metadata": {},
   "outputs": [],
   "source": [
    "# Applying to data"
   ]
  },
  {
   "cell_type": "code",
   "execution_count": 7,
   "metadata": {},
   "outputs": [],
   "source": [
    "ts = BX_GSE\n",
    "adrs = get_addresses(ts, smallest=1, biggest=50)"
   ]
  },
  {
   "cell_type": "code",
   "execution_count": 8,
   "metadata": {},
   "outputs": [],
   "source": [
    "resulting_ts = MAI(ts, adrs, meanval_center, 101)"
   ]
  },
  {
   "cell_type": "code",
   "execution_count": 9,
   "metadata": {},
   "outputs": [
    {
     "data": {
      "text/plain": [
       "(61914, 1)"
      ]
     },
     "execution_count": 9,
     "metadata": {},
     "output_type": "execute_result"
    }
   ],
   "source": [
    "np.argwhere(np.isnan(resulting_ts)).shape"
   ]
  },
  {
   "cell_type": "code",
   "execution_count": 10,
   "metadata": {},
   "outputs": [
    {
     "data": {
      "text/plain": [
       "(525600,)"
      ]
     },
     "execution_count": 10,
     "metadata": {},
     "output_type": "execute_result"
    }
   ],
   "source": [
    "resulting_ts.shape"
   ]
  },
  {
   "cell_type": "code",
   "execution_count": 11,
   "metadata": {},
   "outputs": [
    {
     "data": {
      "text/plain": [
       "[<matplotlib.lines.Line2D at 0x7f2884944d90>]"
      ]
     },
     "execution_count": 11,
     "metadata": {},
     "output_type": "execute_result"
    },
    {
     "data": {
      "image/png": "[encoded data removed]",
      "text/plain": [
       "<Figure size 432x288 with 1 Axes>"
      ]
     },
     "metadata": {
      "needs_background": "light"
     },
     "output_type": "display_data"
    }
   ],
   "source": [
    "plt.plot(resulting_ts)"
   ]
  },
  {
   "cell_type": "code",
   "execution_count": 12,
   "metadata": {},
   "outputs": [
    {
     "data": {
      "image/png": "[encoded data removed]",
      "text/plain": [
       "<Figure size 1296x720 with 1 Axes>"
      ]
     },
     "metadata": {
      "needs_background": "light"
     },
     "output_type": "display_data"
    }
   ],
   "source": [
    "plt.figure(figsize=(18,10))\n",
    "plt.plot(resulting_ts, 'ro')\n",
    "plt.plot(ts, 'bo-')\n",
    "t=54000\n",
    "plt.xlim((t,t+2000))\n",
    "plt.grid()\n",
    "# plt.savefig('/home/m/Desktop/pic.pdf', format='pdf')"
   ]
  },
  {
   "cell_type": "code",
   "execution_count": 13,
   "metadata": {},
   "outputs": [],
   "source": [
    "# Getting uninterrupted data"
   ]
  },
  {
   "cell_type": "code",
   "execution_count": 14,
   "metadata": {},
   "outputs": [],
   "source": [
    "def get_uninterrupted_addr(ts, smallest=1, biggest=500000):\n",
    "    idxs_missing = np.argwhere(np.isnan(ts) == True).T[0]\n",
    "    idx_diff_missing = idxs_missing[1:] - idxs_missing[:-1]\n",
    "    idx_diff_missing = idx_diff_missing - 1\n",
    "    idx_diff_missing_nz = idx_diff_missing[np.nonzero(idx_diff_missing)]\n",
    "    arr_index = np.argwhere((idx_diff_missing <= biggest) * (idx_diff_missing >= smallest) != 0).T[0]\n",
    "    addresses = []\n",
    "\n",
    "    for i in arr_index:\n",
    "        start = idxs_missing[i] + 1\n",
    "        stop = idxs_missing[i+1]\n",
    "        addresses.append([start, stop])\n",
    "    addresses = np.array(addresses)\n",
    "    return addresses\n",
    "\n",
    "def get_uninterrupted_data(ts, addresses):\n",
    "    data = []\n",
    "    for address in addresses:\n",
    "        data.append(ts[address[0]:address[1]])\n",
    "    return data"
   ]
  },
  {
   "cell_type": "code",
   "execution_count": 15,
   "metadata": {},
   "outputs": [
    {
     "data": {
      "text/plain": [
       "[array([-4.69, -4.72, -4.67, ..., -1.96, -2.02, -2.01]),\n",
       " array([-1.77, -1.63, -1.49, ..., -3.07, -3.21, -2.92]),\n",
       " array([-1.36  , -0.9748, -1.5   , ..., -3.17  , -3.78  , -3.68  ]),\n",
       " array([-3.38, -3.36, -4.35, ...,  2.27,  2.27,  2.25]),\n",
       " array([ 2.99,  2.95,  2.85, ..., -5.38, -5.32, -5.34]),\n",
       " array([-4.82     , -4.7412766, -4.84     , ...,  4.07     ,  3.9      ,\n",
       "         3.89     ]),\n",
       " array([ 3.71   ,  3.28875,  3.58   , ..., -2.67   , -2.67   , -2.62   ]),\n",
       " array([-3.05, -3.06, -3.05, ..., -1.81, -1.84, -1.92]),\n",
       " array([-0.67, -0.68, -1.2 , ...,  2.96,  2.99,  3.  ]),\n",
       " array([ 3.08,  3.07,  3.1 , ..., 15.52, 15.52, 15.51]),\n",
       " array([ 8.02,  8.07,  8.08, ..., -2.34, -2.6 , -2.61]),\n",
       " array([-1.83, -1.83, -1.84, ...,  3.4 ,  3.71,  3.75]),\n",
       " array([ 4.61,  4.64,  4.58, ..., -2.13, -2.21, -2.27]),\n",
       " array([-0.79,  1.21,  0.45, ...,  2.84,  2.83,  2.83]),\n",
       " array([2.81, 2.77, 2.75, ..., 5.37, 5.32, 5.3 ]),\n",
       " array([2.16, 2.42, 2.42, ..., 3.31, 3.34, 3.31]),\n",
       " array([ 2.68,  2.61,  2.64, ..., -2.58, -2.56, -2.6 ]),\n",
       " array([-3.36, -3.13, -3.12, ...,  2.68,  2.64,  2.69]),\n",
       " array([2.63      , 2.45612245, 2.65      , ..., 2.85      , 2.84      ,\n",
       "        2.83      ]),\n",
       " array([2.68, 2.63, 2.62, ..., 0.78, 0.6 , 0.57]),\n",
       " array([0.75, 0.87, 0.85, ..., 3.01, 2.57, 2.93]),\n",
       " array([ 2.46      ,  1.99      ,  3.2138    , ..., -2.94208333,\n",
       "        -2.36      , -2.29      ]),\n",
       " array([-1.8       , -1.75      , -2.19254902, ...,  0.78      ,\n",
       "        -1.84      , -2.03      ]),\n",
       " array([-1.63, -1.53, -1.5 , ...,  5.42,  5.42,  5.43]),\n",
       " array([3.48, 3.45, 3.38, ..., 4.47, 4.3 , 4.2 ]),\n",
       " array([7.13, 7.09, 7.02, ..., 9.13, 8.96, 8.83]),\n",
       " array([-2.42, -2.36, -2.26, ...,  5.15,  4.81,  4.43]),\n",
       " array([-3.49, -3.92, -4.24, ..., -1.8 , -2.63, -2.58]),\n",
       " array([10.21,  9.97,  9.29, ...,  3.41,  4.31,  4.53]),\n",
       " array([8.58, 8.72, 8.71, ..., 4.82, 5.2 , 4.84]),\n",
       " array([ 4.63,  4.31,  4.13, ..., -7.79, -7.74, -7.88]),\n",
       " array([-3.6 , -4.79, -5.69, ...,  5.83,  5.81,  5.88]),\n",
       " array([4.35, 4.4 , 3.84, ..., 5.17, 5.2 , 5.22])]"
      ]
     },
     "execution_count": 15,
     "metadata": {},
     "output_type": "execute_result"
    }
   ],
   "source": [
    "uninterrupted_addresses = get_uninterrupted_addr(resulting_ts, smallest=1000, biggest=500000)\n",
    "uninterrupted_data = get_uninterrupted_data(resulting_ts, uninterrupted_addresses)\n",
    "uninterrupted_data"
   ]
  },
  {
   "cell_type": "code",
   "execution_count": 16,
   "metadata": {},
   "outputs": [
    {
     "data": {
      "text/plain": [
       "array([[  4359,   7263],\n",
       "       [  7485,  10482],\n",
       "       [ 10690,  12567],\n",
       "       [ 12639,  20788],\n",
       "       [ 20969,  53426],\n",
       "       [ 53571,  68665],\n",
       "       [ 69232, 106454],\n",
       "       [106633, 107783],\n",
       "       [107877, 127072],\n",
       "       [127454, 137183],\n",
       "       [138108, 143511],\n",
       "       [143569, 148951],\n",
       "       [149210, 173282],\n",
       "       [173484, 209669],\n",
       "       [210116, 226764],\n",
       "       [226974, 229773],\n",
       "       [229932, 232660],\n",
       "       [233395, 246884],\n",
       "       [247159, 249310],\n",
       "       [249985, 304220],\n",
       "       [304450, 322264],\n",
       "       [323202, 351119],\n",
       "       [351596, 366406],\n",
       "       [366632, 396040],\n",
       "       [397076, 409975],\n",
       "       [410150, 413054],\n",
       "       [413123, 417833],\n",
       "       [418093, 431920],\n",
       "       [481930, 483813],\n",
       "       [484522, 491927],\n",
       "       [491985, 497034],\n",
       "       [498116, 515669],\n",
       "       [515903, 523910]])"
      ]
     },
     "execution_count": 16,
     "metadata": {},
     "output_type": "execute_result"
    }
   ],
   "source": [
    "uninterrupted_addresses"
   ]
  },
  {
   "cell_type": "code",
   "execution_count": 17,
   "metadata": {},
   "outputs": [],
   "source": [
    "lengths = [len(item) for item in uninterrupted_data]"
   ]
  },
  {
   "cell_type": "code",
   "execution_count": 18,
   "metadata": {},
   "outputs": [
    {
     "data": {
      "text/plain": [
       "[2904,\n",
       " 2997,\n",
       " 1877,\n",
       " 8149,\n",
       " 32457,\n",
       " 15094,\n",
       " 37222,\n",
       " 1150,\n",
       " 19195,\n",
       " 9729,\n",
       " 5403,\n",
       " 5382,\n",
       " 24072,\n",
       " 36185,\n",
       " 16648,\n",
       " 2799,\n",
       " 2728,\n",
       " 13489,\n",
       " 2151,\n",
       " 54235,\n",
       " 17814,\n",
       " 27917,\n",
       " 14810,\n",
       " 29408,\n",
       " 12899,\n",
       " 2904,\n",
       " 4710,\n",
       " 13827,\n",
       " 1883,\n",
       " 7405,\n",
       " 5049,\n",
       " 17553,\n",
       " 8007]"
      ]
     },
     "execution_count": 18,
     "metadata": {},
     "output_type": "execute_result"
    }
   ],
   "source": [
    "lengths"
   ]
  },
  {
   "cell_type": "code",
   "execution_count": 19,
   "metadata": {},
   "outputs": [],
   "source": [
    "from teaspoon.parameter_selection.MI_delay import MI_for_delay\n",
    "\n",
    "from nolds import lyap_r, lyap_e\n",
    "\n",
    "from nolitsa import dimension"
   ]
  },
  {
   "cell_type": "code",
   "execution_count": 20,
   "metadata": {},
   "outputs": [],
   "source": [
    "def process_ts(ts, window=1000, step=50):\n",
    "    \n",
    "    # get the window size\n",
    "\n",
    "    idxs = [[start, stop] for start, stop in zip(range(0, ts.shape[0], step), range(window, ts.shape[0], step))]\n",
    "    idxs = np.array(idxs)\n",
    "\n",
    "    lyap_rs = []\n",
    "    lyap_es = []\n",
    "    ns = []\n",
    "    taus = []\n",
    "\n",
    "    dims = np.arange(1, 12)\n",
    "\n",
    "    # loop the window through ts\n",
    "\n",
    "    for idx in idxs:\n",
    "        try:\n",
    "            tau = MI_for_delay(ts[idx[0]: idx[1]], method='kraskov 2')\n",
    "            E, Es = dimension.afn(ts[idx[0]: idx[1]], tau=tau, dim=dims)\n",
    "            E1, E2 = E[1:] / E[:-1], Es[1:] / Es[:-1]\n",
    "            dim = dims[np.argwhere(np.abs(E1 - 1) < 0.2)[0,0]]\n",
    "\n",
    "            le = lyap_e(ts[idx[0]: idx[1]], emb_dim=dim, tau=tau, matrix_dim=dim)\n",
    "            lr = lyap_r(ts[idx[0]: idx[1]], emb_dim=dim, tau=tau)\n",
    "\n",
    "            taus.append(tau)\n",
    "            ns.append(dim)\n",
    "            lyap_es.append(le)\n",
    "            lyap_rs.append(lr)\n",
    "        except:\n",
    "            taus.append(np.nan)\n",
    "            ns.append(np.nan)\n",
    "            lyap_es.append(np.nan)\n",
    "            lyap_rs.append(np.nan)\n",
    "\n",
    "    out = {\n",
    "        'window': window,\n",
    "        'step': step,\n",
    "        't': idxs[:, 1],\n",
    "        'dimension': ns,\n",
    "        'delay': taus,\n",
    "        'rosenstein_lyapunov': lyap_rs,\n",
    "        'eckmann_lyapunov': lyap_es\n",
    "    }\n",
    "    \n",
    "    return out"
   ]
  },
  {
   "cell_type": "code",
   "execution_count": null,
   "metadata": {
    "scrolled": true
   },
   "outputs": [
    {
     "name": "stderr",
     "output_type": "stream",
     "text": [
      "/home/m/anaconda3/lib/python3.7/site-packages/nolds/measures.py:240: RuntimeWarning: signal has very low mean frequency, setting min_tsep = 250\n",
      "  warnings.warn(msg.format(min_tsep), RuntimeWarning)\n",
      "/home/m/anaconda3/lib/python3.7/site-packages/nolds/measures.py:268: RuntimeWarning: autocorrelation declined too slowly to find suitable lag, setting lag to 115\n",
      "  warnings.warn(msg.format(lag), RuntimeWarning)\n",
      "/home/m/anaconda3/lib/python3.7/site-packages/nolds/measures.py:240: RuntimeWarning: signal has very low mean frequency, setting min_tsep = 250\n",
      "  warnings.warn(msg.format(min_tsep), RuntimeWarning)\n",
      "/home/m/anaconda3/lib/python3.7/site-packages/nolds/measures.py:268: RuntimeWarning: autocorrelation declined too slowly to find suitable lag, setting lag to 115\n",
      "  warnings.warn(msg.format(lag), RuntimeWarning)\n",
      "/home/m/anaconda3/lib/python3.7/site-packages/nolds/measures.py:240: RuntimeWarning: signal has very low mean frequency, setting min_tsep = 250\n",
      "  warnings.warn(msg.format(min_tsep), RuntimeWarning)\n",
      "/home/m/anaconda3/lib/python3.7/site-packages/nolds/measures.py:268: RuntimeWarning: autocorrelation declined too slowly to find suitable lag, setting lag to 115\n",
      "  warnings.warn(msg.format(lag), RuntimeWarning)\n",
      "/home/m/anaconda3/lib/python3.7/site-packages/nolds/measures.py:240: RuntimeWarning: signal has very low mean frequency, setting min_tsep = 250\n",
      "  warnings.warn(msg.format(min_tsep), RuntimeWarning)\n",
      "/home/m/anaconda3/lib/python3.7/site-packages/nolds/measures.py:268: RuntimeWarning: autocorrelation declined too slowly to find suitable lag, setting lag to 115\n",
      "  warnings.warn(msg.format(lag), RuntimeWarning)\n",
      "/home/m/anaconda3/lib/python3.7/site-packages/nolds/measures.py:240: RuntimeWarning: signal has very low mean frequency, setting min_tsep = 250\n",
      "  warnings.warn(msg.format(min_tsep), RuntimeWarning)\n",
      "/home/m/anaconda3/lib/python3.7/site-packages/nolds/measures.py:268: RuntimeWarning: autocorrelation declined too slowly to find suitable lag, setting lag to 115\n",
      "  warnings.warn(msg.format(lag), RuntimeWarning)\n",
      "/home/m/anaconda3/lib/python3.7/site-packages/nolds/measures.py:240: RuntimeWarning: signal has very low mean frequency, setting min_tsep = 250\n",
      "  warnings.warn(msg.format(min_tsep), RuntimeWarning)\n",
      "/home/m/anaconda3/lib/python3.7/site-packages/nolds/measures.py:268: RuntimeWarning: autocorrelation declined too slowly to find suitable lag, setting lag to 115\n",
      "  warnings.warn(msg.format(lag), RuntimeWarning)\n",
      "/home/m/anaconda3/lib/python3.7/site-packages/nolds/measures.py:240: RuntimeWarning: signal has very low mean frequency, setting min_tsep = 250\n",
      "  warnings.warn(msg.format(min_tsep), RuntimeWarning)\n",
      "/home/m/anaconda3/lib/python3.7/site-packages/nolds/measures.py:268: RuntimeWarning: autocorrelation declined too slowly to find suitable lag, setting lag to 115\n",
      "  warnings.warn(msg.format(lag), RuntimeWarning)\n",
      "/home/m/anaconda3/lib/python3.7/site-packages/nolds/measures.py:240: RuntimeWarning: signal has very low mean frequency, setting min_tsep = 250\n",
      "  warnings.warn(msg.format(min_tsep), RuntimeWarning)\n",
      "/home/m/anaconda3/lib/python3.7/site-packages/nolds/measures.py:268: RuntimeWarning: autocorrelation declined too slowly to find suitable lag, setting lag to 115\n",
      "  warnings.warn(msg.format(lag), RuntimeWarning)\n",
      "/home/m/anaconda3/lib/python3.7/site-packages/nolds/measures.py:240: RuntimeWarning: signal has very low mean frequency, setting min_tsep = 250\n",
      "  warnings.warn(msg.format(min_tsep), RuntimeWarning)\n",
      "/home/m/anaconda3/lib/python3.7/site-packages/nolds/measures.py:268: RuntimeWarning: autocorrelation declined too slowly to find suitable lag, setting lag to 115\n",
      "  warnings.warn(msg.format(lag), RuntimeWarning)\n",
      "/home/m/anaconda3/lib/python3.7/site-packages/nolds/measures.py:240: RuntimeWarning: signal has very low mean frequency, setting min_tsep = 250\n",
      "  warnings.warn(msg.format(min_tsep), RuntimeWarning)\n",
      "/home/m/anaconda3/lib/python3.7/site-packages/nolds/measures.py:268: RuntimeWarning: autocorrelation declined too slowly to find suitable lag, setting lag to 115\n",
      "  warnings.warn(msg.format(lag), RuntimeWarning)\n",
      "/home/m/anaconda3/lib/python3.7/site-packages/nolds/measures.py:240: RuntimeWarning: signal has very low mean frequency, setting min_tsep = 250\n",
      "  warnings.warn(msg.format(min_tsep), RuntimeWarning)\n",
      "/home/m/anaconda3/lib/python3.7/site-packages/nolds/measures.py:268: RuntimeWarning: autocorrelation declined too slowly to find suitable lag, setting lag to 115\n",
      "  warnings.warn(msg.format(lag), RuntimeWarning)\n",
      "/home/m/anaconda3/lib/python3.7/site-packages/nolds/measures.py:240: RuntimeWarning: signal has very low mean frequency, setting min_tsep = 250\n",
      "  warnings.warn(msg.format(min_tsep), RuntimeWarning)\n",
      "/home/m/anaconda3/lib/python3.7/site-packages/nolds/measures.py:268: RuntimeWarning: autocorrelation declined too slowly to find suitable lag, setting lag to 115\n",
      "  warnings.warn(msg.format(lag), RuntimeWarning)\n",
      "/home/m/anaconda3/lib/python3.7/site-packages/nolds/measures.py:240: RuntimeWarning: signal has very low mean frequency, setting min_tsep = 250\n",
      "  warnings.warn(msg.format(min_tsep), RuntimeWarning)\n",
      "/home/m/anaconda3/lib/python3.7/site-packages/nolds/measures.py:268: RuntimeWarning: autocorrelation declined too slowly to find suitable lag, setting lag to 115\n",
      "  warnings.warn(msg.format(lag), RuntimeWarning)\n",
      "/home/m/anaconda3/lib/python3.7/site-packages/nolds/measures.py:240: RuntimeWarning: signal has very low mean frequency, setting min_tsep = 250\n",
      "  warnings.warn(msg.format(min_tsep), RuntimeWarning)\n",
      "/home/m/anaconda3/lib/python3.7/site-packages/nolds/measures.py:268: RuntimeWarning: autocorrelation declined too slowly to find suitable lag, setting lag to 115\n",
      "  warnings.warn(msg.format(lag), RuntimeWarning)\n",
      "/home/m/anaconda3/lib/python3.7/site-packages/nolds/measures.py:240: RuntimeWarning: signal has very low mean frequency, setting min_tsep = 250\n",
      "  warnings.warn(msg.format(min_tsep), RuntimeWarning)\n",
      "/home/m/anaconda3/lib/python3.7/site-packages/nolds/measures.py:268: RuntimeWarning: autocorrelation declined too slowly to find suitable lag, setting lag to 115\n",
      "  warnings.warn(msg.format(lag), RuntimeWarning)\n",
      "/home/m/anaconda3/lib/python3.7/site-packages/nolds/measures.py:240: RuntimeWarning: signal has very low mean frequency, setting min_tsep = 250\n",
      "  warnings.warn(msg.format(min_tsep), RuntimeWarning)\n",
      "/home/m/anaconda3/lib/python3.7/site-packages/nolds/measures.py:268: RuntimeWarning: autocorrelation declined too slowly to find suitable lag, setting lag to 115\n",
      "  warnings.warn(msg.format(lag), RuntimeWarning)\n",
      "/home/m/anaconda3/lib/python3.7/site-packages/nolds/measures.py:240: RuntimeWarning: signal has very low mean frequency, setting min_tsep = 250\n",
      "  warnings.warn(msg.format(min_tsep), RuntimeWarning)\n",
      "/home/m/anaconda3/lib/python3.7/site-packages/nolds/measures.py:268: RuntimeWarning: autocorrelation declined too slowly to find suitable lag, setting lag to 115\n",
      "  warnings.warn(msg.format(lag), RuntimeWarning)\n",
      "/home/m/anaconda3/lib/python3.7/site-packages/nolds/measures.py:240: RuntimeWarning: signal has very low mean frequency, setting min_tsep = 250\n",
      "  warnings.warn(msg.format(min_tsep), RuntimeWarning)\n",
      "/home/m/anaconda3/lib/python3.7/site-packages/nolds/measures.py:268: RuntimeWarning: autocorrelation declined too slowly to find suitable lag, setting lag to 115\n",
      "  warnings.warn(msg.format(lag), RuntimeWarning)\n",
      "/home/m/anaconda3/lib/python3.7/site-packages/nolds/measures.py:240: RuntimeWarning: signal has very low mean frequency, setting min_tsep = 250\n",
      "  warnings.warn(msg.format(min_tsep), RuntimeWarning)\n",
      "/home/m/anaconda3/lib/python3.7/site-packages/nolds/measures.py:268: RuntimeWarning: autocorrelation declined too slowly to find suitable lag, setting lag to 115\n",
      "  warnings.warn(msg.format(lag), RuntimeWarning)\n",
      "/home/m/anaconda3/lib/python3.7/site-packages/nolds/measures.py:240: RuntimeWarning: signal has very low mean frequency, setting min_tsep = 250\n",
      "  warnings.warn(msg.format(min_tsep), RuntimeWarning)\n",
      "/home/m/anaconda3/lib/python3.7/site-packages/nolds/measures.py:268: RuntimeWarning: autocorrelation declined too slowly to find suitable lag, setting lag to 115\n",
      "  warnings.warn(msg.format(lag), RuntimeWarning)\n",
      "/home/m/anaconda3/lib/python3.7/site-packages/nolds/measures.py:240: RuntimeWarning: signal has very low mean frequency, setting min_tsep = 250\n",
      "  warnings.warn(msg.format(min_tsep), RuntimeWarning)\n",
      "/home/m/anaconda3/lib/python3.7/site-packages/nolds/measures.py:268: RuntimeWarning: autocorrelation declined too slowly to find suitable lag, setting lag to 115\n",
      "  warnings.warn(msg.format(lag), RuntimeWarning)\n"
     ]
    },
    {
     "name": "stderr",
     "output_type": "stream",
     "text": [
      "/home/m/anaconda3/lib/python3.7/site-packages/nolds/measures.py:240: RuntimeWarning: signal has very low mean frequency, setting min_tsep = 250\n",
      "  warnings.warn(msg.format(min_tsep), RuntimeWarning)\n",
      "/home/m/anaconda3/lib/python3.7/site-packages/nolds/measures.py:268: RuntimeWarning: autocorrelation declined too slowly to find suitable lag, setting lag to 115\n",
      "  warnings.warn(msg.format(lag), RuntimeWarning)\n",
      "/home/m/anaconda3/lib/python3.7/site-packages/nolds/measures.py:240: RuntimeWarning: signal has very low mean frequency, setting min_tsep = 250\n",
      "  warnings.warn(msg.format(min_tsep), RuntimeWarning)\n",
      "/home/m/anaconda3/lib/python3.7/site-packages/nolds/measures.py:268: RuntimeWarning: autocorrelation declined too slowly to find suitable lag, setting lag to 115\n",
      "  warnings.warn(msg.format(lag), RuntimeWarning)\n",
      "/home/m/anaconda3/lib/python3.7/site-packages/nolds/measures.py:240: RuntimeWarning: signal has very low mean frequency, setting min_tsep = 250\n",
      "  warnings.warn(msg.format(min_tsep), RuntimeWarning)\n",
      "/home/m/anaconda3/lib/python3.7/site-packages/nolds/measures.py:268: RuntimeWarning: autocorrelation declined too slowly to find suitable lag, setting lag to 115\n",
      "  warnings.warn(msg.format(lag), RuntimeWarning)\n",
      "/home/m/anaconda3/lib/python3.7/site-packages/nolds/measures.py:240: RuntimeWarning: signal has very low mean frequency, setting min_tsep = 250\n",
      "  warnings.warn(msg.format(min_tsep), RuntimeWarning)\n",
      "/home/m/anaconda3/lib/python3.7/site-packages/nolds/measures.py:268: RuntimeWarning: autocorrelation declined too slowly to find suitable lag, setting lag to 115\n",
      "  warnings.warn(msg.format(lag), RuntimeWarning)\n",
      "/home/m/anaconda3/lib/python3.7/site-packages/nolds/measures.py:240: RuntimeWarning: signal has very low mean frequency, setting min_tsep = 250\n",
      "  warnings.warn(msg.format(min_tsep), RuntimeWarning)\n",
      "/home/m/anaconda3/lib/python3.7/site-packages/nolds/measures.py:268: RuntimeWarning: autocorrelation declined too slowly to find suitable lag, setting lag to 115\n",
      "  warnings.warn(msg.format(lag), RuntimeWarning)\n",
      "/home/m/anaconda3/lib/python3.7/site-packages/nolds/measures.py:240: RuntimeWarning: signal has very low mean frequency, setting min_tsep = 250\n",
      "  warnings.warn(msg.format(min_tsep), RuntimeWarning)\n",
      "/home/m/anaconda3/lib/python3.7/site-packages/nolds/measures.py:268: RuntimeWarning: autocorrelation declined too slowly to find suitable lag, setting lag to 115\n",
      "  warnings.warn(msg.format(lag), RuntimeWarning)\n",
      "/home/m/anaconda3/lib/python3.7/site-packages/nolds/measures.py:240: RuntimeWarning: signal has very low mean frequency, setting min_tsep = 250\n",
      "  warnings.warn(msg.format(min_tsep), RuntimeWarning)\n",
      "/home/m/anaconda3/lib/python3.7/site-packages/nolds/measures.py:268: RuntimeWarning: autocorrelation declined too slowly to find suitable lag, setting lag to 115\n",
      "  warnings.warn(msg.format(lag), RuntimeWarning)\n",
      "/home/m/anaconda3/lib/python3.7/site-packages/nolds/measures.py:240: RuntimeWarning: signal has very low mean frequency, setting min_tsep = 250\n",
      "  warnings.warn(msg.format(min_tsep), RuntimeWarning)\n",
      "/home/m/anaconda3/lib/python3.7/site-packages/nolds/measures.py:268: RuntimeWarning: autocorrelation declined too slowly to find suitable lag, setting lag to 115\n",
      "  warnings.warn(msg.format(lag), RuntimeWarning)\n",
      "/home/m/anaconda3/lib/python3.7/site-packages/nolds/measures.py:240: RuntimeWarning: signal has very low mean frequency, setting min_tsep = 250\n",
      "  warnings.warn(msg.format(min_tsep), RuntimeWarning)\n",
      "/home/m/anaconda3/lib/python3.7/site-packages/nolds/measures.py:268: RuntimeWarning: autocorrelation declined too slowly to find suitable lag, setting lag to 115\n",
      "  warnings.warn(msg.format(lag), RuntimeWarning)\n",
      "/home/m/anaconda3/lib/python3.7/site-packages/nolds/measures.py:240: RuntimeWarning: signal has very low mean frequency, setting min_tsep = 250\n",
      "  warnings.warn(msg.format(min_tsep), RuntimeWarning)\n",
      "/home/m/anaconda3/lib/python3.7/site-packages/nolds/measures.py:268: RuntimeWarning: autocorrelation declined too slowly to find suitable lag, setting lag to 115\n",
      "  warnings.warn(msg.format(lag), RuntimeWarning)\n",
      "/home/m/anaconda3/lib/python3.7/site-packages/nolds/measures.py:240: RuntimeWarning: signal has very low mean frequency, setting min_tsep = 250\n",
      "  warnings.warn(msg.format(min_tsep), RuntimeWarning)\n",
      "/home/m/anaconda3/lib/python3.7/site-packages/nolds/measures.py:268: RuntimeWarning: autocorrelation declined too slowly to find suitable lag, setting lag to 115\n",
      "  warnings.warn(msg.format(lag), RuntimeWarning)\n",
      "/home/m/anaconda3/lib/python3.7/site-packages/nolds/measures.py:240: RuntimeWarning: signal has very low mean frequency, setting min_tsep = 250\n",
      "  warnings.warn(msg.format(min_tsep), RuntimeWarning)\n",
      "/home/m/anaconda3/lib/python3.7/site-packages/nolds/measures.py:268: RuntimeWarning: autocorrelation declined too slowly to find suitable lag, setting lag to 115\n",
      "  warnings.warn(msg.format(lag), RuntimeWarning)\n",
      "/home/m/anaconda3/lib/python3.7/site-packages/nolds/measures.py:240: RuntimeWarning: signal has very low mean frequency, setting min_tsep = 250\n",
      "  warnings.warn(msg.format(min_tsep), RuntimeWarning)\n",
      "/home/m/anaconda3/lib/python3.7/site-packages/nolds/measures.py:268: RuntimeWarning: autocorrelation declined too slowly to find suitable lag, setting lag to 115\n",
      "  warnings.warn(msg.format(lag), RuntimeWarning)\n",
      "/home/m/anaconda3/lib/python3.7/site-packages/nolds/measures.py:240: RuntimeWarning: signal has very low mean frequency, setting min_tsep = 250\n",
      "  warnings.warn(msg.format(min_tsep), RuntimeWarning)\n",
      "/home/m/anaconda3/lib/python3.7/site-packages/nolds/measures.py:268: RuntimeWarning: autocorrelation declined too slowly to find suitable lag, setting lag to 115\n",
      "  warnings.warn(msg.format(lag), RuntimeWarning)\n",
      "/home/m/anaconda3/lib/python3.7/site-packages/nolds/measures.py:240: RuntimeWarning: signal has very low mean frequency, setting min_tsep = 250\n",
      "  warnings.warn(msg.format(min_tsep), RuntimeWarning)\n",
      "/home/m/anaconda3/lib/python3.7/site-packages/nolds/measures.py:268: RuntimeWarning: autocorrelation declined too slowly to find suitable lag, setting lag to 115\n",
      "  warnings.warn(msg.format(lag), RuntimeWarning)\n",
      "/home/m/anaconda3/lib/python3.7/site-packages/nolds/measures.py:240: RuntimeWarning: signal has very low mean frequency, setting min_tsep = 250\n",
      "  warnings.warn(msg.format(min_tsep), RuntimeWarning)\n",
      "/home/m/anaconda3/lib/python3.7/site-packages/nolds/measures.py:268: RuntimeWarning: autocorrelation declined too slowly to find suitable lag, setting lag to 115\n",
      "  warnings.warn(msg.format(lag), RuntimeWarning)\n",
      "/home/m/anaconda3/lib/python3.7/site-packages/nolds/measures.py:240: RuntimeWarning: signal has very low mean frequency, setting min_tsep = 250\n",
      "  warnings.warn(msg.format(min_tsep), RuntimeWarning)\n",
      "/home/m/anaconda3/lib/python3.7/site-packages/nolds/measures.py:268: RuntimeWarning: autocorrelation declined too slowly to find suitable lag, setting lag to 115\n",
      "  warnings.warn(msg.format(lag), RuntimeWarning)\n",
      "/home/m/anaconda3/lib/python3.7/site-packages/nolds/measures.py:240: RuntimeWarning: signal has very low mean frequency, setting min_tsep = 250\n",
      "  warnings.warn(msg.format(min_tsep), RuntimeWarning)\n",
      "/home/m/anaconda3/lib/python3.7/site-packages/nolds/measures.py:268: RuntimeWarning: autocorrelation declined too slowly to find suitable lag, setting lag to 115\n",
      "  warnings.warn(msg.format(lag), RuntimeWarning)\n",
      "/home/m/anaconda3/lib/python3.7/site-packages/nolds/measures.py:240: RuntimeWarning: signal has very low mean frequency, setting min_tsep = 250\n",
      "  warnings.warn(msg.format(min_tsep), RuntimeWarning)\n",
      "/home/m/anaconda3/lib/python3.7/site-packages/nolds/measures.py:268: RuntimeWarning: autocorrelation declined too slowly to find suitable lag, setting lag to 115\n",
      "  warnings.warn(msg.format(lag), RuntimeWarning)\n",
      "/home/m/anaconda3/lib/python3.7/site-packages/nolds/measures.py:240: RuntimeWarning: signal has very low mean frequency, setting min_tsep = 250\n",
      "  warnings.warn(msg.format(min_tsep), RuntimeWarning)\n",
      "/home/m/anaconda3/lib/python3.7/site-packages/nolds/measures.py:268: RuntimeWarning: autocorrelation declined too slowly to find suitable lag, setting lag to 115\n",
      "  warnings.warn(msg.format(lag), RuntimeWarning)\n",
      "/home/m/anaconda3/lib/python3.7/site-packages/nolds/measures.py:240: RuntimeWarning: signal has very low mean frequency, setting min_tsep = 250\n",
      "  warnings.warn(msg.format(min_tsep), RuntimeWarning)\n",
      "/home/m/anaconda3/lib/python3.7/site-packages/nolds/measures.py:268: RuntimeWarning: autocorrelation declined too slowly to find suitable lag, setting lag to 115\n",
      "  warnings.warn(msg.format(lag), RuntimeWarning)\n"
     ]
    },
    {
     "name": "stderr",
     "output_type": "stream",
     "text": [
      "/home/m/anaconda3/lib/python3.7/site-packages/nolds/measures.py:240: RuntimeWarning: signal has very low mean frequency, setting min_tsep = 250\n",
      "  warnings.warn(msg.format(min_tsep), RuntimeWarning)\n",
      "/home/m/anaconda3/lib/python3.7/site-packages/nolds/measures.py:268: RuntimeWarning: autocorrelation declined too slowly to find suitable lag, setting lag to 115\n",
      "  warnings.warn(msg.format(lag), RuntimeWarning)\n",
      "/home/m/anaconda3/lib/python3.7/site-packages/nolds/measures.py:240: RuntimeWarning: signal has very low mean frequency, setting min_tsep = 250\n",
      "  warnings.warn(msg.format(min_tsep), RuntimeWarning)\n",
      "/home/m/anaconda3/lib/python3.7/site-packages/nolds/measures.py:268: RuntimeWarning: autocorrelation declined too slowly to find suitable lag, setting lag to 115\n",
      "  warnings.warn(msg.format(lag), RuntimeWarning)\n",
      "/home/m/anaconda3/lib/python3.7/site-packages/nolds/measures.py:240: RuntimeWarning: signal has very low mean frequency, setting min_tsep = 250\n",
      "  warnings.warn(msg.format(min_tsep), RuntimeWarning)\n",
      "/home/m/anaconda3/lib/python3.7/site-packages/nolds/measures.py:268: RuntimeWarning: autocorrelation declined too slowly to find suitable lag, setting lag to 115\n",
      "  warnings.warn(msg.format(lag), RuntimeWarning)\n",
      "/home/m/anaconda3/lib/python3.7/site-packages/nolds/measures.py:240: RuntimeWarning: signal has very low mean frequency, setting min_tsep = 250\n",
      "  warnings.warn(msg.format(min_tsep), RuntimeWarning)\n",
      "/home/m/anaconda3/lib/python3.7/site-packages/nolds/measures.py:268: RuntimeWarning: autocorrelation declined too slowly to find suitable lag, setting lag to 115\n",
      "  warnings.warn(msg.format(lag), RuntimeWarning)\n",
      "/home/m/anaconda3/lib/python3.7/site-packages/nolds/measures.py:240: RuntimeWarning: signal has very low mean frequency, setting min_tsep = 250\n",
      "  warnings.warn(msg.format(min_tsep), RuntimeWarning)\n",
      "/home/m/anaconda3/lib/python3.7/site-packages/nolds/measures.py:268: RuntimeWarning: autocorrelation declined too slowly to find suitable lag, setting lag to 115\n",
      "  warnings.warn(msg.format(lag), RuntimeWarning)\n",
      "/home/m/anaconda3/lib/python3.7/site-packages/nolds/measures.py:240: RuntimeWarning: signal has very low mean frequency, setting min_tsep = 250\n",
      "  warnings.warn(msg.format(min_tsep), RuntimeWarning)\n",
      "/home/m/anaconda3/lib/python3.7/site-packages/nolds/measures.py:268: RuntimeWarning: autocorrelation declined too slowly to find suitable lag, setting lag to 115\n",
      "  warnings.warn(msg.format(lag), RuntimeWarning)\n",
      "/home/m/anaconda3/lib/python3.7/site-packages/nolds/measures.py:240: RuntimeWarning: signal has very low mean frequency, setting min_tsep = 250\n",
      "  warnings.warn(msg.format(min_tsep), RuntimeWarning)\n",
      "/home/m/anaconda3/lib/python3.7/site-packages/nolds/measures.py:268: RuntimeWarning: autocorrelation declined too slowly to find suitable lag, setting lag to 115\n",
      "  warnings.warn(msg.format(lag), RuntimeWarning)\n",
      "/home/m/anaconda3/lib/python3.7/site-packages/nolds/measures.py:240: RuntimeWarning: signal has very low mean frequency, setting min_tsep = 250\n",
      "  warnings.warn(msg.format(min_tsep), RuntimeWarning)\n",
      "/home/m/anaconda3/lib/python3.7/site-packages/nolds/measures.py:268: RuntimeWarning: autocorrelation declined too slowly to find suitable lag, setting lag to 115\n",
      "  warnings.warn(msg.format(lag), RuntimeWarning)\n",
      "/home/m/anaconda3/lib/python3.7/site-packages/nolds/measures.py:240: RuntimeWarning: signal has very low mean frequency, setting min_tsep = 250\n",
      "  warnings.warn(msg.format(min_tsep), RuntimeWarning)\n",
      "/home/m/anaconda3/lib/python3.7/site-packages/nolds/measures.py:268: RuntimeWarning: autocorrelation declined too slowly to find suitable lag, setting lag to 115\n",
      "  warnings.warn(msg.format(lag), RuntimeWarning)\n",
      "/home/m/anaconda3/lib/python3.7/site-packages/nolds/measures.py:240: RuntimeWarning: signal has very low mean frequency, setting min_tsep = 250\n",
      "  warnings.warn(msg.format(min_tsep), RuntimeWarning)\n",
      "/home/m/anaconda3/lib/python3.7/site-packages/nolds/measures.py:268: RuntimeWarning: autocorrelation declined too slowly to find suitable lag, setting lag to 115\n",
      "  warnings.warn(msg.format(lag), RuntimeWarning)\n",
      "/home/m/anaconda3/lib/python3.7/site-packages/nolds/measures.py:240: RuntimeWarning: signal has very low mean frequency, setting min_tsep = 250\n",
      "  warnings.warn(msg.format(min_tsep), RuntimeWarning)\n",
      "/home/m/anaconda3/lib/python3.7/site-packages/nolds/measures.py:268: RuntimeWarning: autocorrelation declined too slowly to find suitable lag, setting lag to 115\n",
      "  warnings.warn(msg.format(lag), RuntimeWarning)\n",
      "/home/m/anaconda3/lib/python3.7/site-packages/nolds/measures.py:240: RuntimeWarning: signal has very low mean frequency, setting min_tsep = 250\n",
      "  warnings.warn(msg.format(min_tsep), RuntimeWarning)\n",
      "/home/m/anaconda3/lib/python3.7/site-packages/nolds/measures.py:268: RuntimeWarning: autocorrelation declined too slowly to find suitable lag, setting lag to 115\n",
      "  warnings.warn(msg.format(lag), RuntimeWarning)\n",
      "/home/m/anaconda3/lib/python3.7/site-packages/nolds/measures.py:240: RuntimeWarning: signal has very low mean frequency, setting min_tsep = 250\n",
      "  warnings.warn(msg.format(min_tsep), RuntimeWarning)\n",
      "/home/m/anaconda3/lib/python3.7/site-packages/nolds/measures.py:268: RuntimeWarning: autocorrelation declined too slowly to find suitable lag, setting lag to 115\n",
      "  warnings.warn(msg.format(lag), RuntimeWarning)\n",
      "/home/m/anaconda3/lib/python3.7/site-packages/nolds/measures.py:240: RuntimeWarning: signal has very low mean frequency, setting min_tsep = 250\n",
      "  warnings.warn(msg.format(min_tsep), RuntimeWarning)\n",
      "/home/m/anaconda3/lib/python3.7/site-packages/nolds/measures.py:268: RuntimeWarning: autocorrelation declined too slowly to find suitable lag, setting lag to 115\n",
      "  warnings.warn(msg.format(lag), RuntimeWarning)\n",
      "/home/m/anaconda3/lib/python3.7/site-packages/nolds/measures.py:240: RuntimeWarning: signal has very low mean frequency, setting min_tsep = 250\n",
      "  warnings.warn(msg.format(min_tsep), RuntimeWarning)\n",
      "/home/m/anaconda3/lib/python3.7/site-packages/nolds/measures.py:268: RuntimeWarning: autocorrelation declined too slowly to find suitable lag, setting lag to 115\n",
      "  warnings.warn(msg.format(lag), RuntimeWarning)\n",
      "/home/m/anaconda3/lib/python3.7/site-packages/nolds/measures.py:240: RuntimeWarning: signal has very low mean frequency, setting min_tsep = 250\n",
      "  warnings.warn(msg.format(min_tsep), RuntimeWarning)\n",
      "/home/m/anaconda3/lib/python3.7/site-packages/nolds/measures.py:268: RuntimeWarning: autocorrelation declined too slowly to find suitable lag, setting lag to 115\n",
      "  warnings.warn(msg.format(lag), RuntimeWarning)\n",
      "/home/m/anaconda3/lib/python3.7/site-packages/nolds/measures.py:240: RuntimeWarning: signal has very low mean frequency, setting min_tsep = 250\n",
      "  warnings.warn(msg.format(min_tsep), RuntimeWarning)\n",
      "/home/m/anaconda3/lib/python3.7/site-packages/nolds/measures.py:268: RuntimeWarning: autocorrelation declined too slowly to find suitable lag, setting lag to 115\n",
      "  warnings.warn(msg.format(lag), RuntimeWarning)\n",
      "/home/m/anaconda3/lib/python3.7/site-packages/nolds/measures.py:240: RuntimeWarning: signal has very low mean frequency, setting min_tsep = 250\n",
      "  warnings.warn(msg.format(min_tsep), RuntimeWarning)\n",
      "/home/m/anaconda3/lib/python3.7/site-packages/nolds/measures.py:268: RuntimeWarning: autocorrelation declined too slowly to find suitable lag, setting lag to 115\n",
      "  warnings.warn(msg.format(lag), RuntimeWarning)\n",
      "/home/m/anaconda3/lib/python3.7/site-packages/nolds/measures.py:240: RuntimeWarning: signal has very low mean frequency, setting min_tsep = 250\n",
      "  warnings.warn(msg.format(min_tsep), RuntimeWarning)\n",
      "/home/m/anaconda3/lib/python3.7/site-packages/nolds/measures.py:268: RuntimeWarning: autocorrelation declined too slowly to find suitable lag, setting lag to 115\n",
      "  warnings.warn(msg.format(lag), RuntimeWarning)\n",
      "/home/m/anaconda3/lib/python3.7/site-packages/nolds/measures.py:240: RuntimeWarning: signal has very low mean frequency, setting min_tsep = 250\n",
      "  warnings.warn(msg.format(min_tsep), RuntimeWarning)\n",
      "/home/m/anaconda3/lib/python3.7/site-packages/nolds/measures.py:268: RuntimeWarning: autocorrelation declined too slowly to find suitable lag, setting lag to 115\n",
      "  warnings.warn(msg.format(lag), RuntimeWarning)\n",
      "/home/m/anaconda3/lib/python3.7/site-packages/nolds/measures.py:240: RuntimeWarning: signal has very low mean frequency, setting min_tsep = 250\n",
      "  warnings.warn(msg.format(min_tsep), RuntimeWarning)\n",
      "/home/m/anaconda3/lib/python3.7/site-packages/nolds/measures.py:268: RuntimeWarning: autocorrelation declined too slowly to find suitable lag, setting lag to 115\n",
      "  warnings.warn(msg.format(lag), RuntimeWarning)\n"
     ]
    },
    {
     "name": "stderr",
     "output_type": "stream",
     "text": [
      "/home/m/anaconda3/lib/python3.7/site-packages/nolds/measures.py:240: RuntimeWarning: signal has very low mean frequency, setting min_tsep = 250\n",
      "  warnings.warn(msg.format(min_tsep), RuntimeWarning)\n",
      "/home/m/anaconda3/lib/python3.7/site-packages/nolds/measures.py:268: RuntimeWarning: autocorrelation declined too slowly to find suitable lag, setting lag to 115\n",
      "  warnings.warn(msg.format(lag), RuntimeWarning)\n",
      "/home/m/anaconda3/lib/python3.7/site-packages/nolds/measures.py:240: RuntimeWarning: signal has very low mean frequency, setting min_tsep = 250\n",
      "  warnings.warn(msg.format(min_tsep), RuntimeWarning)\n",
      "/home/m/anaconda3/lib/python3.7/site-packages/nolds/measures.py:268: RuntimeWarning: autocorrelation declined too slowly to find suitable lag, setting lag to 115\n",
      "  warnings.warn(msg.format(lag), RuntimeWarning)\n",
      "/home/m/anaconda3/lib/python3.7/site-packages/nolds/measures.py:240: RuntimeWarning: signal has very low mean frequency, setting min_tsep = 250\n",
      "  warnings.warn(msg.format(min_tsep), RuntimeWarning)\n",
      "/home/m/anaconda3/lib/python3.7/site-packages/nolds/measures.py:268: RuntimeWarning: autocorrelation declined too slowly to find suitable lag, setting lag to 115\n",
      "  warnings.warn(msg.format(lag), RuntimeWarning)\n",
      "/home/m/anaconda3/lib/python3.7/site-packages/nolds/measures.py:240: RuntimeWarning: signal has very low mean frequency, setting min_tsep = 250\n",
      "  warnings.warn(msg.format(min_tsep), RuntimeWarning)\n",
      "/home/m/anaconda3/lib/python3.7/site-packages/nolds/measures.py:268: RuntimeWarning: autocorrelation declined too slowly to find suitable lag, setting lag to 115\n",
      "  warnings.warn(msg.format(lag), RuntimeWarning)\n",
      "/home/m/anaconda3/lib/python3.7/site-packages/nolds/measures.py:240: RuntimeWarning: signal has very low mean frequency, setting min_tsep = 250\n",
      "  warnings.warn(msg.format(min_tsep), RuntimeWarning)\n",
      "/home/m/anaconda3/lib/python3.7/site-packages/nolds/measures.py:268: RuntimeWarning: autocorrelation declined too slowly to find suitable lag, setting lag to 115\n",
      "  warnings.warn(msg.format(lag), RuntimeWarning)\n",
      "/home/m/anaconda3/lib/python3.7/site-packages/nolds/measures.py:240: RuntimeWarning: signal has very low mean frequency, setting min_tsep = 250\n",
      "  warnings.warn(msg.format(min_tsep), RuntimeWarning)\n",
      "/home/m/anaconda3/lib/python3.7/site-packages/nolds/measures.py:268: RuntimeWarning: autocorrelation declined too slowly to find suitable lag, setting lag to 115\n",
      "  warnings.warn(msg.format(lag), RuntimeWarning)\n",
      "/home/m/anaconda3/lib/python3.7/site-packages/nolds/measures.py:240: RuntimeWarning: signal has very low mean frequency, setting min_tsep = 250\n",
      "  warnings.warn(msg.format(min_tsep), RuntimeWarning)\n",
      "/home/m/anaconda3/lib/python3.7/site-packages/nolds/measures.py:268: RuntimeWarning: autocorrelation declined too slowly to find suitable lag, setting lag to 115\n",
      "  warnings.warn(msg.format(lag), RuntimeWarning)\n",
      "/home/m/anaconda3/lib/python3.7/site-packages/nolds/measures.py:240: RuntimeWarning: signal has very low mean frequency, setting min_tsep = 250\n",
      "  warnings.warn(msg.format(min_tsep), RuntimeWarning)\n",
      "/home/m/anaconda3/lib/python3.7/site-packages/nolds/measures.py:268: RuntimeWarning: autocorrelation declined too slowly to find suitable lag, setting lag to 115\n",
      "  warnings.warn(msg.format(lag), RuntimeWarning)\n",
      "/home/m/anaconda3/lib/python3.7/site-packages/nolds/measures.py:240: RuntimeWarning: signal has very low mean frequency, setting min_tsep = 250\n",
      "  warnings.warn(msg.format(min_tsep), RuntimeWarning)\n",
      "/home/m/anaconda3/lib/python3.7/site-packages/nolds/measures.py:268: RuntimeWarning: autocorrelation declined too slowly to find suitable lag, setting lag to 115\n",
      "  warnings.warn(msg.format(lag), RuntimeWarning)\n",
      "/home/m/anaconda3/lib/python3.7/site-packages/nolds/measures.py:240: RuntimeWarning: signal has very low mean frequency, setting min_tsep = 250\n",
      "  warnings.warn(msg.format(min_tsep), RuntimeWarning)\n",
      "/home/m/anaconda3/lib/python3.7/site-packages/nolds/measures.py:268: RuntimeWarning: autocorrelation declined too slowly to find suitable lag, setting lag to 115\n",
      "  warnings.warn(msg.format(lag), RuntimeWarning)\n",
      "/home/m/anaconda3/lib/python3.7/site-packages/nolds/measures.py:240: RuntimeWarning: signal has very low mean frequency, setting min_tsep = 250\n",
      "  warnings.warn(msg.format(min_tsep), RuntimeWarning)\n",
      "/home/m/anaconda3/lib/python3.7/site-packages/nolds/measures.py:268: RuntimeWarning: autocorrelation declined too slowly to find suitable lag, setting lag to 115\n",
      "  warnings.warn(msg.format(lag), RuntimeWarning)\n",
      "/home/m/anaconda3/lib/python3.7/site-packages/nolds/measures.py:240: RuntimeWarning: signal has very low mean frequency, setting min_tsep = 250\n",
      "  warnings.warn(msg.format(min_tsep), RuntimeWarning)\n",
      "/home/m/anaconda3/lib/python3.7/site-packages/nolds/measures.py:268: RuntimeWarning: autocorrelation declined too slowly to find suitable lag, setting lag to 115\n",
      "  warnings.warn(msg.format(lag), RuntimeWarning)\n",
      "/home/m/anaconda3/lib/python3.7/site-packages/sklearn/metrics/_regression.py:582: UndefinedMetricWarning: R^2 score is not well-defined with less than two samples.\n",
      "  warnings.warn(msg, UndefinedMetricWarning)\n",
      "/home/m/anaconda3/lib/python3.7/site-packages/nolds/measures.py:240: RuntimeWarning: signal has very low mean frequency, setting min_tsep = 250\n",
      "  warnings.warn(msg.format(min_tsep), RuntimeWarning)\n",
      "/home/m/anaconda3/lib/python3.7/site-packages/nolds/measures.py:268: RuntimeWarning: autocorrelation declined too slowly to find suitable lag, setting lag to 115\n",
      "  warnings.warn(msg.format(lag), RuntimeWarning)\n",
      "/home/m/anaconda3/lib/python3.7/site-packages/nolds/measures.py:240: RuntimeWarning: signal has very low mean frequency, setting min_tsep = 250\n",
      "  warnings.warn(msg.format(min_tsep), RuntimeWarning)\n",
      "/home/m/anaconda3/lib/python3.7/site-packages/nolds/measures.py:268: RuntimeWarning: autocorrelation declined too slowly to find suitable lag, setting lag to 115\n",
      "  warnings.warn(msg.format(lag), RuntimeWarning)\n",
      "/home/m/anaconda3/lib/python3.7/site-packages/nolds/measures.py:240: RuntimeWarning: signal has very low mean frequency, setting min_tsep = 250\n",
      "  warnings.warn(msg.format(min_tsep), RuntimeWarning)\n",
      "/home/m/anaconda3/lib/python3.7/site-packages/nolds/measures.py:268: RuntimeWarning: autocorrelation declined too slowly to find suitable lag, setting lag to 115\n",
      "  warnings.warn(msg.format(lag), RuntimeWarning)\n",
      "/home/m/anaconda3/lib/python3.7/site-packages/nolds/measures.py:240: RuntimeWarning: signal has very low mean frequency, setting min_tsep = 250\n",
      "  warnings.warn(msg.format(min_tsep), RuntimeWarning)\n",
      "/home/m/anaconda3/lib/python3.7/site-packages/nolds/measures.py:268: RuntimeWarning: autocorrelation declined too slowly to find suitable lag, setting lag to 115\n",
      "  warnings.warn(msg.format(lag), RuntimeWarning)\n",
      "/home/m/anaconda3/lib/python3.7/site-packages/nolds/measures.py:240: RuntimeWarning: signal has very low mean frequency, setting min_tsep = 250\n",
      "  warnings.warn(msg.format(min_tsep), RuntimeWarning)\n",
      "/home/m/anaconda3/lib/python3.7/site-packages/nolds/measures.py:268: RuntimeWarning: autocorrelation declined too slowly to find suitable lag, setting lag to 115\n",
      "  warnings.warn(msg.format(lag), RuntimeWarning)\n",
      "/home/m/anaconda3/lib/python3.7/site-packages/nolds/measures.py:240: RuntimeWarning: signal has very low mean frequency, setting min_tsep = 250\n",
      "  warnings.warn(msg.format(min_tsep), RuntimeWarning)\n",
      "/home/m/anaconda3/lib/python3.7/site-packages/nolds/measures.py:268: RuntimeWarning: autocorrelation declined too slowly to find suitable lag, setting lag to 115\n",
      "  warnings.warn(msg.format(lag), RuntimeWarning)\n",
      "/home/m/anaconda3/lib/python3.7/site-packages/nolds/measures.py:240: RuntimeWarning: signal has very low mean frequency, setting min_tsep = 250\n",
      "  warnings.warn(msg.format(min_tsep), RuntimeWarning)\n",
      "/home/m/anaconda3/lib/python3.7/site-packages/nolds/measures.py:268: RuntimeWarning: autocorrelation declined too slowly to find suitable lag, setting lag to 115\n",
      "  warnings.warn(msg.format(lag), RuntimeWarning)\n",
      "/home/m/anaconda3/lib/python3.7/site-packages/nolds/measures.py:240: RuntimeWarning: signal has very low mean frequency, setting min_tsep = 250\n",
      "  warnings.warn(msg.format(min_tsep), RuntimeWarning)\n",
      "/home/m/anaconda3/lib/python3.7/site-packages/nolds/measures.py:268: RuntimeWarning: autocorrelation declined too slowly to find suitable lag, setting lag to 115\n",
      "  warnings.warn(msg.format(lag), RuntimeWarning)\n"
     ]
    },
    {
     "name": "stderr",
     "output_type": "stream",
     "text": [
      "/home/m/anaconda3/lib/python3.7/site-packages/nolds/measures.py:240: RuntimeWarning: signal has very low mean frequency, setting min_tsep = 250\n",
      "  warnings.warn(msg.format(min_tsep), RuntimeWarning)\n",
      "/home/m/anaconda3/lib/python3.7/site-packages/nolds/measures.py:268: RuntimeWarning: autocorrelation declined too slowly to find suitable lag, setting lag to 115\n",
      "  warnings.warn(msg.format(lag), RuntimeWarning)\n"
     ]
    }
   ],
   "source": [
    "results = []\n",
    "\n",
    "for item in uninterrupted_data:\n",
    "    try:\n",
    "        results.append(process_ts(item, window=1000, step=1))\n",
    "    except:\n",
    "        results.append({})"
   ]
  },
  {
   "cell_type": "code",
   "execution_count": null,
   "metadata": {},
   "outputs": [],
   "source": [
    "np.sum(np.isnan(uninterrupted_data[4]))"
   ]
  },
  {
   "cell_type": "code",
   "execution_count": null,
   "metadata": {
    "scrolled": true
   },
   "outputs": [],
   "source": [
    "results"
   ]
  },
  {
   "cell_type": "code",
   "execution_count": null,
   "metadata": {},
   "outputs": [],
   "source": [
    "import pickle\n",
    "with open('uninterrupted_BX_GSE.pkl', 'wb') as pkl:\n",
    "    pickle.dump(results, pkl)"
   ]
  },
  {
   "cell_type": "code",
   "execution_count": null,
   "metadata": {},
   "outputs": [],
   "source": [
    "import pickle\n",
    "with open('uninterrupted_BX_GSE.pkl', 'rb') as pkl:\n",
    "    read_res = pickle.load(pkl)"
   ]
  },
  {
   "cell_type": "code",
   "execution_count": null,
   "metadata": {},
   "outputs": [],
   "source": []
  }
 ],
 "metadata": {
  "kernelspec": {
   "display_name": "Python 3",
   "language": "python",
   "name": "python3"
  },
  "language_info": {
   "codemirror_mode": {
    "name": "ipython",
    "version": 3
   },
   "file_extension": ".py",
   "mimetype": "text/x-python",
   "name": "python",
   "nbconvert_exporter": "python",
   "pygments_lexer": "ipython3",
   "version": "3.7.6"
  }
 },
 "nbformat": 4,
 "nbformat_minor": 4
}
