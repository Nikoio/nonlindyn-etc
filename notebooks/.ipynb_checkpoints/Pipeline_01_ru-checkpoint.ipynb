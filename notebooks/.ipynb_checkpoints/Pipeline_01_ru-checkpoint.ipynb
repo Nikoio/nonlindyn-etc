{
 "cells": [
  {
   "cell_type": "markdown",
   "metadata": {},
   "source": [
    "# Обработка временных рядов\n",
    "\n",
    "В качестве примера используются данные спутника ACE (ESA), представляющие из себя набор временных рядов различных измеряемых спутником величин. Для дальнейшего рассмотрения выбирается один из рядов, вопрос связи между рядами не рассматривается.\n",
    "\n",
    "Можно выделить 3 этапа работы с данными:\n",
    "1. Построение статистики пропусков, оценка возможности и параметров их заполнения, интерполяция.\n",
    "2. Нелинейно-динамический анализ непрерывных отрезков данных.\n",
    "3. Топологический анализ полученных фазовых портретов.\n",
    "\n",
    "Кроме того, описаны некоторые технические и вспомогательные этапы обработки."
   ]
  },
  {
   "cell_type": "markdown",
   "metadata": {},
   "source": [
    "## Импорты сторонних библиотек"
   ]
  },
  {
   "cell_type": "code",
   "execution_count": null,
   "metadata": {},
   "outputs": [],
   "source": [
    "import numpy as np\n",
    "import pandas as pd\n",
    "import matplotlib.pyplot as plt\n",
    "\n",
    "from teaspoon.parameter_selection.MI_delay import MI_for_delay\n",
    "from teaspoon.parameter_selection.MsPE import MsPE_tau, MsPE_n\n",
    "from teaspoon.parameter_selection.FNN_n import FNN_n\n",
    "\n",
    "from nolds import lyap_r, lyap_e\n",
    "\n",
    "import teaspoon.MakeData.DynSysLib.DynSysLib as DSL\n",
    "\n",
    "from nolitsa import data, dimension, utils\n",
    "\n",
    "import re"
   ]
  },
  {
   "cell_type": "markdown",
   "metadata": {},
   "source": [
    "## Чтение данных\n",
    "\n",
    "Исходные текстовые файлы лежат в папке `data_csv_folder`, бинарные -- в `data_bin_folder`. \n",
    "На выходе данного этапа в `ts` должен лежать исследуемый временной ряд."
   ]
  },
  {
   "cell_type": "code",
   "execution_count": null,
   "metadata": {},
   "outputs": [],
   "source": [
    "data_csv_folder = '../data/csv/'\n",
    "data_bin_folder = '../data/bin/'\n",
    "\n",
    "csv_file = 'sc_merge_min_6WdR366jgc_KP2.lst'"
   ]
  },
  {
   "cell_type": "code",
   "execution_count": null,
   "metadata": {},
   "outputs": [],
   "source": [
    "keys = ['BX_GSE', 'BY_GSE', 'BZ_GSE', 'BY_GSM', 'BZ_GSM', 'Scalar_B', \n",
    "        'Vx', 'Vy', 'Vz', 'Proton_Density', 'Temperature']\n",
    "key = keys[0]"
   ]
  },
  {
   "cell_type": "code",
   "execution_count": null,
   "metadata": {},
   "outputs": [],
   "source": [
    "df = pd.read_csv(data_csv_folder + csv_file, sep=\"\\s+\")\n",
    "\n",
    "df = df.replace({'Scalar_B':{9999.99:np.nan}, 'Flow_speed':{99999.9:np.nan},\n",
    "                   'Proton_Density':{999.99:np.nan}, 'Temperature':{9999999.0:np.nan},\n",
    "                'BX_GSE':{9999.99:np.nan}, 'BY_GSE':{9999.99:np.nan}, 'BZ_GSE':{9999.99:np.nan}, \n",
    "                 'BY_GSM':{9999.99:np.nan}, 'BZ_GSM':{9999.99:np.nan}, 'Vx':{99999.9:np.nan}, \n",
    "                 'Vy':{99999.9:np.nan}, 'Vz':{99999.9:np.nan}})"
   ]
  },
  {
   "cell_type": "code",
   "execution_count": null,
   "metadata": {},
   "outputs": [],
   "source": [
    "ts_dict = {}\n",
    "\n",
    "# for _key in keys:\n",
    "#     ts_dict[_key] = df[_key].to_numpy()\n",
    "\n",
    "ts = df[key].to_numpy()"
   ]
  },
  {
   "cell_type": "markdown",
   "metadata": {},
   "source": [
    "## Подготовка данных"
   ]
  },
  {
   "cell_type": "markdown",
   "metadata": {},
   "source": [
    "### Статистика пропусков"
   ]
  },
  {
   "cell_type": "code",
   "execution_count": null,
   "metadata": {},
   "outputs": [],
   "source": []
  },
  {
   "cell_type": "markdown",
   "metadata": {},
   "source": [
    "### Интерполяция"
   ]
  },
  {
   "cell_type": "code",
   "execution_count": null,
   "metadata": {},
   "outputs": [],
   "source": []
  },
  {
   "cell_type": "markdown",
   "metadata": {},
   "source": [
    "## Нелинейно-динамический анализ"
   ]
  },
  {
   "cell_type": "code",
   "execution_count": null,
   "metadata": {},
   "outputs": [],
   "source": []
  },
  {
   "cell_type": "markdown",
   "metadata": {},
   "source": [
    "## Топологический анализ фазового портрета временного ряда (TDA)"
   ]
  },
  {
   "cell_type": "code",
   "execution_count": null,
   "metadata": {},
   "outputs": [],
   "source": []
  },
  {
   "cell_type": "markdown",
   "metadata": {},
   "source": [
    "## Выводы"
   ]
  },
  {
   "cell_type": "code",
   "execution_count": null,
   "metadata": {},
   "outputs": [],
   "source": []
  },
  {
   "cell_type": "markdown",
   "metadata": {},
   "source": [
    "## Источники"
   ]
  },
  {
   "cell_type": "code",
   "execution_count": null,
   "metadata": {},
   "outputs": [],
   "source": []
  }
 ],
 "metadata": {
  "kernelspec": {
   "display_name": "Python 3",
   "language": "python",
   "name": "python3"
  },
  "language_info": {
   "codemirror_mode": {
    "name": "ipython",
    "version": 3
   },
   "file_extension": ".py",
   "mimetype": "text/x-python",
   "name": "python",
   "nbconvert_exporter": "python",
   "pygments_lexer": "ipython3",
   "version": "3.7.6"
  }
 },
 "nbformat": 4,
 "nbformat_minor": 4
}
