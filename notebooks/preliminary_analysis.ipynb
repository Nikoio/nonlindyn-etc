{
 "cells": [
  {
   "cell_type": "code",
   "execution_count": 1,
   "metadata": {},
   "outputs": [],
   "source": [
    "import numpy as np\n",
    "import pandas as pd\n",
    "import matplotlib.pyplot as plt\n",
    "\n",
    "from teaspoon.parameter_selection.MI_delay import MI_for_delay\n",
    "from teaspoon.parameter_selection.MsPE import MsPE_tau, MsPE_n\n",
    "from teaspoon.parameter_selection.FNN_n import FNN_n\n",
    "\n",
    "from nolds import lyap_r, lyap_e\n",
    "\n",
    "import teaspoon.MakeData.DynSysLib.DynSysLib as DSL\n",
    "\n",
    "from nolitsa import data, dimension, utils\n",
    "\n",
    "import re"
   ]
  },
  {
   "cell_type": "code",
   "execution_count": 66,
   "metadata": {},
   "outputs": [],
   "source": [
    "df = pd.read_csv('sc_merge_min_6WdR366jgc_KP2.lst', sep=\"\\s+\")"
   ]
  },
  {
   "cell_type": "code",
   "execution_count": 2,
   "metadata": {},
   "outputs": [
    {
     "data": {
      "text/plain": [
       "3"
      ]
     },
     "execution_count": 2,
     "metadata": {},
     "output_type": "execute_result"
    }
   ],
   "source": [
    "df"
   ]
  },
  {
   "cell_type": "code",
   "execution_count": 68,
   "metadata": {},
   "outputs": [
    {
     "data": {
      "text/plain": [
       "(525600, 16)"
      ]
     },
     "execution_count": 68,
     "metadata": {},
     "output_type": "execute_result"
    }
   ],
   "source": [
    "df = df.replace({'Scalar_B':{9999.99:np.nan}, 'Flow_speed':{99999.9:np.nan},\n",
    "                   'Proton_Density':{999.99:np.nan}, 'Temperature':{9999999.0:np.nan},\n",
    "                'BX_GSE':{9999.99:np.nan}, 'BY_GSE':{9999.99:np.nan}, 'BZ_GSE':{9999.99:np.nan}, \n",
    "                 'BY_GSM':{9999.99:np.nan}, 'BZ_GSM':{9999.99:np.nan}, 'Vx':{99999.9:np.nan}, \n",
    "                 'Vy':{99999.9:np.nan}, 'Vz':{99999.9:np.nan}})\n",
    "# df_X = df_X.to_numpy()\n",
    "df.shape"
   ]
  },
  {
   "cell_type": "code",
   "execution_count": 5,
   "metadata": {},
   "outputs": [
    {
     "data": {
      "text/plain": [
       "Index(['Year', 'Day', 'Hour', 'Minute', 'Scalar_B', 'BX_GSE', 'BY_GSE',\n",
       "       'BZ_GSE', 'BY_GSM', 'BZ_GSM', 'Flow_speed', 'Vx', 'Vy', 'Vz',\n",
       "       'Proton_Density', 'Temperature'],\n",
       "      dtype='object')"
      ]
     },
     "execution_count": 5,
     "metadata": {},
     "output_type": "execute_result"
    }
   ],
   "source": [
    "df.columns"
   ]
  },
  {
   "cell_type": "code",
   "execution_count": 6,
   "metadata": {
    "scrolled": false
   },
   "outputs": [
    {
     "name": "stdout",
     "output_type": "stream",
     "text": [
      "5.08     992\n",
      "5.12     976\n",
      "5.04     966\n",
      "4.79     965\n",
      "5.60     958\n",
      "        ... \n",
      "20.23      1\n",
      "21.11      1\n",
      "21.44      1\n",
      "29.02      1\n",
      "0.36       1\n",
      "Name: Scalar_B, Length: 2870, dtype: int64\n",
      " 0.41     635\n",
      " 0.33     635\n",
      "-0.12     634\n",
      "-0.68     631\n",
      " 0.78     626\n",
      "         ... \n",
      " 15.36      1\n",
      " 15.31      1\n",
      " 13.84      1\n",
      "-13.10      1\n",
      "-14.31      1\n",
      "Name: BZ_GSE, Length: 3742, dtype: int64\n",
      "336.5    328\n",
      "337.4    328\n",
      "337.8    313\n",
      "340.1    307\n",
      "330.8    305\n",
      "        ... \n",
      "921.7      1\n",
      "928.1      1\n",
      "935.7      1\n",
      "934.1      1\n",
      "715.7      1\n",
      "Name: Flow_speed, Length: 5418, dtype: int64\n",
      "4.89     594\n",
      "3.48     591\n",
      "4.87     588\n",
      "4.88     586\n",
      "5.17     583\n",
      "        ... \n",
      "33.95      1\n",
      "36.51      1\n",
      "37.14      1\n",
      "37.43      1\n",
      "26.35      1\n",
      "Name: Proton_Density, Length: 3940, dtype: int64\n",
      "59651.0     96\n",
      "38359.0     95\n",
      "42904.0     93\n",
      "34935.0     91\n",
      "24394.0     90\n",
      "            ..\n",
      "305494.0     1\n",
      "237724.0     1\n",
      "230595.0     1\n",
      "239771.0     1\n",
      "135200.0     1\n",
      "Name: Temperature, Length: 108855, dtype: int64\n"
     ]
    }
   ],
   "source": [
    "print(df['Scalar_B'].value_counts())\n",
    "print(df['BZ_GSE'].value_counts())\n",
    "print(df['Flow_speed'].value_counts())\n",
    "print(df['Proton_Density'].value_counts())\n",
    "print(df['Temperature'].value_counts())\n",
    "# print(df['AE'].value_counts())\n",
    "# print(df['AL'].value_counts())\n",
    "# print(df['AU'].value_counts())"
   ]
  },
  {
   "cell_type": "code",
   "execution_count": 7,
   "metadata": {},
   "outputs": [],
   "source": [
    "Scalar_B = df['Scalar_B'].to_numpy()\n",
    "BZ = df['BZ_GSE'].to_numpy()\n",
    "Flow_speed = df['Flow_speed'].to_numpy()\n",
    "Proton_Density = df['Proton_Density'].to_numpy()\n",
    "Temperature = df['Temperature'].to_numpy()"
   ]
  },
  {
   "cell_type": "code",
   "execution_count": 70,
   "metadata": {},
   "outputs": [],
   "source": [
    "ts = BZ"
   ]
  },
  {
   "cell_type": "code",
   "execution_count": 71,
   "metadata": {},
   "outputs": [
    {
     "data": {
      "text/plain": [
       "array([     0,      1,      2, ..., 525596, 525597, 525599])"
      ]
     },
     "execution_count": 71,
     "metadata": {},
     "output_type": "execute_result"
    }
   ],
   "source": [
    "idxs_missing = np.argwhere(np.isnan(ts) == False).T[0]\n",
    "idxs_missing"
   ]
  },
  {
   "cell_type": "code",
   "execution_count": 72,
   "metadata": {},
   "outputs": [
    {
     "data": {
      "text/plain": [
       "array([False, False, False, ..., False,  True, False])"
      ]
     },
     "execution_count": 72,
     "metadata": {},
     "output_type": "execute_result"
    }
   ],
   "source": [
    "np.isnan(ts)"
   ]
  },
  {
   "cell_type": "code",
   "execution_count": 73,
   "metadata": {},
   "outputs": [],
   "source": [
    "idx_diff_missing = idxs_missing[1:] - idxs_missing[:-1]\n",
    "idx_diff_missing = idx_diff_missing - 1\n",
    "idx_diff_missing_nz = idx_diff_missing[np.nonzero(idx_diff_missing)]\n",
    "arr_index = np.nonzero(idx_diff_missing)"
   ]
  },
  {
   "cell_type": "code",
   "execution_count": 74,
   "metadata": {},
   "outputs": [
    {
     "data": {
      "text/plain": [
       "array([0, 0, 0, ..., 0, 0, 1])"
      ]
     },
     "execution_count": 74,
     "metadata": {},
     "output_type": "execute_result"
    }
   ],
   "source": [
    "idx_diff_missing"
   ]
  },
  {
   "cell_type": "code",
   "execution_count": 75,
   "metadata": {},
   "outputs": [
    {
     "data": {
      "text/plain": [
       "array([    72,     73,     74, ..., 441468, 441635, 441835])"
      ]
     },
     "execution_count": 75,
     "metadata": {},
     "output_type": "execute_result"
    }
   ],
   "source": [
    "np.argwhere((idx_diff_missing <= 50) * (idx_diff_missing >= 1) != 0).T[0]"
   ]
  },
  {
   "cell_type": "code",
   "execution_count": null,
   "metadata": {},
   "outputs": [],
   "source": []
  },
  {
   "cell_type": "code",
   "execution_count": 98,
   "metadata": {},
   "outputs": [
    {
     "data": {
      "text/plain": [
       "Text(0, 0.5, 'Плотность протонов, $cm^{-3}$')"
      ]
     },
     "execution_count": 98,
     "metadata": {},
     "output_type": "execute_result"
    },
    {
     "data": {
      "image/png": "[encoded data removed]",
      "text/plain": [
       "<Figure size 640x480 with 1 Axes>"
      ]
     },
     "metadata": {},
     "output_type": "display_data"
    }
   ],
   "source": [
    "start = 4100\n",
    "step = 500\n",
    "plt.plot(df['Proton_Density'][start:start+step], 'ro-', markersize=3.6)\n",
    "plt.grid()\n",
    "plt.xlabel('Время, мин')\n",
    "plt.ylabel(r'Плотность протонов, $cm^{-3}$')"
   ]
  },
  {
   "cell_type": "code",
   "execution_count": null,
   "metadata": {},
   "outputs": [],
   "source": []
  },
  {
   "cell_type": "code",
   "execution_count": null,
   "metadata": {},
   "outputs": [],
   "source": []
  },
  {
   "cell_type": "code",
   "execution_count": null,
   "metadata": {},
   "outputs": [],
   "source": []
  },
  {
   "cell_type": "code",
   "execution_count": 76,
   "metadata": {},
   "outputs": [
    {
     "data": {
      "text/plain": [
       "array([    0,     1,     2,     3,     4,     5,     6,     7,     8,\n",
       "           9,    10,    11,    12,    13,    14,    15,    16,    17,\n",
       "          18,    19,    20,    21,    22,    23,    24,    25,    26,\n",
       "          27,    28,    29,    30,    31,    32,    33,    34,    35,\n",
       "          36,    37,    38,    40,    41,    43,    47,    48,    49,\n",
       "          62,    64,    69,    76,    95,   128,   143,   149,   162,\n",
       "         166,   177,   182,   184,   202,   209,   211,   215,   216,\n",
       "         221,   226,   229,   230,   233,   259,   282,   296,   381,\n",
       "         436,   446,   488,   677,   931,   943,  1045,  1091, 50011])"
      ]
     },
     "execution_count": 76,
     "metadata": {},
     "output_type": "execute_result"
    }
   ],
   "source": [
    "hist_missing[0]"
   ]
  },
  {
   "cell_type": "code",
   "execution_count": 77,
   "metadata": {},
   "outputs": [],
   "source": [
    "hist_missing = np.unique(idx_diff_missing, return_counts=True)"
   ]
  },
  {
   "cell_type": "code",
   "execution_count": 78,
   "metadata": {},
   "outputs": [
    {
     "data": {
      "image/png": "[encoded data removed]",
      "text/plain": [
       "<Figure size 640x480 with 1 Axes>"
      ]
     },
     "metadata": {},
     "output_type": "display_data"
    }
   ],
   "source": [
    "# plt.style.use('dark_background')\n",
    "# plt.figure(figsize=(18,10))\n",
    "plt.plot(hist_missing[0] + 1, hist_missing[1], 'ro')\n",
    "plt.yscale('log')\n",
    "plt.xscale('log')\n",
    "plt.grid()\n",
    "plt.grid(b=True, which='both', axis='y')\n",
    "# plt.xlim((0,200))\n",
    "plt.xlabel('Длина отрезка без пропусков')\n",
    "plt.ylabel('Количество отрезков')\n",
    "plt.show()\n",
    "plt.style.use('default')"
   ]
  },
  {
   "cell_type": "code",
   "execution_count": 63,
   "metadata": {},
   "outputs": [
    {
     "data": {
      "image/png": "[encoded data removed]",
      "text/plain": [
       "<Figure size 640x480 with 1 Axes>"
      ]
     },
     "metadata": {},
     "output_type": "display_data"
    }
   ],
   "source": [
    "from teaspoon.parameter_selection.MI_delay import MI_for_delay\n",
    "\n",
    "from nolds import lyap_r, lyap_e\n",
    "\n",
    "from nolitsa import dimension"
   ]
  },
  {
   "cell_type": "code",
   "execution_count": 49,
   "metadata": {},
   "outputs": [],
   "source": [
    "wh = np.argwhere(hist_missing[0] >= 10).T[0]"
   ]
  },
  {
   "cell_type": "code",
   "execution_count": 54,
   "metadata": {},
   "outputs": [
    {
     "data": {
      "text/plain": [
       "array([14])"
      ]
     },
     "execution_count": 54,
     "metadata": {},
     "output_type": "execute_result"
    }
   ],
   "source": [
    "wh[5:6]"
   ]
  },
  {
   "cell_type": "code",
   "execution_count": 52,
   "metadata": {},
   "outputs": [
    {
     "data": {
      "text/plain": [
       "33741"
      ]
     },
     "execution_count": 52,
     "metadata": {},
     "output_type": "execute_result"
    }
   ],
   "source": [
    "np.sum(hist_missing[1][:9])"
   ]
  },
  {
   "cell_type": "code",
   "execution_count": 53,
   "metadata": {},
   "outputs": [
    {
     "data": {
      "text/plain": [
       "1207"
      ]
     },
     "execution_count": 53,
     "metadata": {},
     "output_type": "execute_result"
    }
   ],
   "source": [
    "np.sum(hist_missing[1][9:])"
   ]
  },
  {
   "cell_type": "code",
   "execution_count": 79,
   "metadata": {},
   "outputs": [
    {
     "data": {
      "text/plain": [
       "array([69994,  7450,  7139,  2329,  2378,  1929,  1451,  1220,  1061,\n",
       "         849,   842,   714,   636,   618,   527,   465,   472,   398,\n",
       "         387,   330,   290,   279,   225,   238,   195,   177,   183,\n",
       "         152,   167,   130,   123,   116,   103,    95,    82,    95,\n",
       "          79,    64,    60,    53,    50,    44,    49,    43,    39,\n",
       "          38,    46,    34,    38,    22,    19,    27,    22,    24,\n",
       "          17,    10,    12,    11,    21,    17,    17,    11,    14,\n",
       "          11,     8,    12,     9,     7,     8,    12,    10,     5,\n",
       "           4,     5,     8,     6,     6,     8,     6,     7,     2,\n",
       "           1,     3,     2,     1,     1,     1,     2,     2,     1,\n",
       "           3,     3,     1,     2,     3,     1,     2,     1,     2,\n",
       "           2,     2,     3,     2,     4,     1,     1,     6,     2,\n",
       "           1,     3,     2,     1,     1,     2,     5,     2,     1,\n",
       "           1,     1,     1,     1,     1,     1,     1,     1,     1,\n",
       "           1,     1,     1,     1,     1,     1])"
      ]
     },
     "execution_count": 79,
     "metadata": {},
     "output_type": "execute_result"
    }
   ],
   "source": [
    "hist_missing[1]"
   ]
  },
  {
   "cell_type": "code",
   "execution_count": 12,
   "metadata": {},
   "outputs": [],
   "source": [
    "# explicitly require this experimental feature\n",
    "from sklearn.experimental import enable_iterative_imputer  # noqa\n",
    "# now you can import normally from sklearn.impute\n",
    "from sklearn.impute import IterativeImputer\n",
    "from sklearn.tree import DecisionTreeRegressor"
   ]
  },
  {
   "cell_type": "code",
   "execution_count": null,
   "metadata": {},
   "outputs": [],
   "source": [
    "imp_mean = IterativeImputer(max_iter=3000, initial_strategy='most_frequent', \n",
    "                            tol=1e-4, estimator=DecisionTreeRegressor())\n",
    "df_X_transformed = imp_mean.fit_transform(df_X)"
   ]
  },
  {
   "cell_type": "code",
   "execution_count": null,
   "metadata": {},
   "outputs": [],
   "source": [
    "df_X"
   ]
  },
  {
   "cell_type": "code",
   "execution_count": null,
   "metadata": {},
   "outputs": [],
   "source": [
    "plt.figure(figsize=(18,10))\n",
    "plt.plot(df_X_transformed[:, 6], 'ro', markersize=2)\n",
    "plt.plot(df_X[:, 6], 'bo', markersize=2)\n",
    "# plt.xlim((100000, 102000))"
   ]
  },
  {
   "cell_type": "code",
   "execution_count": 53,
   "metadata": {},
   "outputs": [
    {
     "data": {
      "text/plain": [
       "array([ 2.01400000e+03,  1.00000000e+00,  0.00000000e+00,  1.00000000e+00,\n",
       "        5.03000000e+00, -1.21000000e+00,  4.00885514e+02,  4.88512140e+00,\n",
       "        8.24000110e+04])"
      ]
     },
     "execution_count": 53,
     "metadata": {},
     "output_type": "execute_result"
    }
   ],
   "source": [
    "df_X_transformed[1]"
   ]
  },
  {
   "cell_type": "code",
   "execution_count": 54,
   "metadata": {},
   "outputs": [
    {
     "data": {
      "text/plain": [
       "13"
      ]
     },
     "execution_count": 54,
     "metadata": {},
     "output_type": "execute_result"
    }
   ],
   "source": [
    "imp_mean.n_iter_"
   ]
  },
  {
   "cell_type": "markdown",
   "metadata": {},
   "source": [
    "## Interpolation in `scipy`"
   ]
  },
  {
   "cell_type": "code",
   "execution_count": 9,
   "metadata": {},
   "outputs": [
    {
     "data": {
      "text/html": [
       "<div>\n",
       "<style scoped>\n",
       "    .dataframe tbody tr th:only-of-type {\n",
       "        vertical-align: middle;\n",
       "    }\n",
       "\n",
       "    .dataframe tbody tr th {\n",
       "        vertical-align: top;\n",
       "    }\n",
       "\n",
       "    .dataframe thead th {\n",
       "        text-align: right;\n",
       "    }\n",
       "</style>\n",
       "<table border=\"1\" class=\"dataframe\">\n",
       "  <thead>\n",
       "    <tr style=\"text-align: right;\">\n",
       "      <th></th>\n",
       "      <th>Year</th>\n",
       "      <th>Day</th>\n",
       "      <th>Hour</th>\n",
       "      <th>Minute</th>\n",
       "      <th>Scalar_B</th>\n",
       "      <th>BZ</th>\n",
       "      <th>Flow_speed</th>\n",
       "      <th>Proton_Density</th>\n",
       "      <th>Temperature</th>\n",
       "    </tr>\n",
       "  </thead>\n",
       "  <tbody>\n",
       "    <tr>\n",
       "      <th>0</th>\n",
       "      <td>2014</td>\n",
       "      <td>1</td>\n",
       "      <td>0</td>\n",
       "      <td>0</td>\n",
       "      <td>5.03</td>\n",
       "      <td>-1.22</td>\n",
       "      <td>NaN</td>\n",
       "      <td>NaN</td>\n",
       "      <td>NaN</td>\n",
       "    </tr>\n",
       "    <tr>\n",
       "      <th>1</th>\n",
       "      <td>2014</td>\n",
       "      <td>1</td>\n",
       "      <td>0</td>\n",
       "      <td>1</td>\n",
       "      <td>5.03</td>\n",
       "      <td>-1.21</td>\n",
       "      <td>NaN</td>\n",
       "      <td>NaN</td>\n",
       "      <td>NaN</td>\n",
       "    </tr>\n",
       "    <tr>\n",
       "      <th>2</th>\n",
       "      <td>2014</td>\n",
       "      <td>1</td>\n",
       "      <td>0</td>\n",
       "      <td>2</td>\n",
       "      <td>5.02</td>\n",
       "      <td>-1.18</td>\n",
       "      <td>NaN</td>\n",
       "      <td>NaN</td>\n",
       "      <td>NaN</td>\n",
       "    </tr>\n",
       "    <tr>\n",
       "      <th>3</th>\n",
       "      <td>2014</td>\n",
       "      <td>1</td>\n",
       "      <td>0</td>\n",
       "      <td>3</td>\n",
       "      <td>5.06</td>\n",
       "      <td>-1.52</td>\n",
       "      <td>NaN</td>\n",
       "      <td>NaN</td>\n",
       "      <td>NaN</td>\n",
       "    </tr>\n",
       "    <tr>\n",
       "      <th>4</th>\n",
       "      <td>2014</td>\n",
       "      <td>1</td>\n",
       "      <td>0</td>\n",
       "      <td>4</td>\n",
       "      <td>5.10</td>\n",
       "      <td>-1.43</td>\n",
       "      <td>386.2</td>\n",
       "      <td>6.29</td>\n",
       "      <td>109948.0</td>\n",
       "    </tr>\n",
       "  </tbody>\n",
       "</table>\n",
       "</div>"
      ],
      "text/plain": [
       "   Year  Day  Hour  Minute  Scalar_B    BZ  Flow_speed  Proton_Density  \\\n",
       "0  2014    1     0       0      5.03 -1.22         NaN             NaN   \n",
       "1  2014    1     0       1      5.03 -1.21         NaN             NaN   \n",
       "2  2014    1     0       2      5.02 -1.18         NaN             NaN   \n",
       "3  2014    1     0       3      5.06 -1.52         NaN             NaN   \n",
       "4  2014    1     0       4      5.10 -1.43       386.2            6.29   \n",
       "\n",
       "   Temperature  \n",
       "0          NaN  \n",
       "1          NaN  \n",
       "2          NaN  \n",
       "3          NaN  \n",
       "4     109948.0  "
      ]
     },
     "execution_count": 9,
     "metadata": {},
     "output_type": "execute_result"
    }
   ],
   "source": [
    "df_X.head()"
   ]
  },
  {
   "cell_type": "code",
   "execution_count": 10,
   "metadata": {},
   "outputs": [],
   "source": [
    "df_true_A = df_X.dropna(subset=['Flow_speed', 'Proton_Density', 'Temperature'])\n",
    "df_true_B = df_X.dropna(subset=['Scalar_B', 'BZ'])"
   ]
  },
  {
   "cell_type": "code",
   "execution_count": 11,
   "metadata": {},
   "outputs": [
    {
     "data": {
      "text/html": [
       "<div>\n",
       "<style scoped>\n",
       "    .dataframe tbody tr th:only-of-type {\n",
       "        vertical-align: middle;\n",
       "    }\n",
       "\n",
       "    .dataframe tbody tr th {\n",
       "        vertical-align: top;\n",
       "    }\n",
       "\n",
       "    .dataframe thead th {\n",
       "        text-align: right;\n",
       "    }\n",
       "</style>\n",
       "<table border=\"1\" class=\"dataframe\">\n",
       "  <thead>\n",
       "    <tr style=\"text-align: right;\">\n",
       "      <th></th>\n",
       "      <th>Year</th>\n",
       "      <th>Day</th>\n",
       "      <th>Hour</th>\n",
       "      <th>Minute</th>\n",
       "      <th>Scalar_B</th>\n",
       "      <th>BZ</th>\n",
       "      <th>Flow_speed</th>\n",
       "      <th>Proton_Density</th>\n",
       "      <th>Temperature</th>\n",
       "    </tr>\n",
       "  </thead>\n",
       "  <tbody>\n",
       "    <tr>\n",
       "      <th>4</th>\n",
       "      <td>2014</td>\n",
       "      <td>1</td>\n",
       "      <td>0</td>\n",
       "      <td>4</td>\n",
       "      <td>5.10</td>\n",
       "      <td>-1.43</td>\n",
       "      <td>386.2</td>\n",
       "      <td>6.29</td>\n",
       "      <td>109948.0</td>\n",
       "    </tr>\n",
       "    <tr>\n",
       "      <th>5</th>\n",
       "      <td>2014</td>\n",
       "      <td>1</td>\n",
       "      <td>0</td>\n",
       "      <td>5</td>\n",
       "      <td>4.99</td>\n",
       "      <td>-1.70</td>\n",
       "      <td>386.2</td>\n",
       "      <td>6.29</td>\n",
       "      <td>109948.0</td>\n",
       "    </tr>\n",
       "    <tr>\n",
       "      <th>6</th>\n",
       "      <td>2014</td>\n",
       "      <td>1</td>\n",
       "      <td>0</td>\n",
       "      <td>6</td>\n",
       "      <td>5.02</td>\n",
       "      <td>-2.11</td>\n",
       "      <td>385.8</td>\n",
       "      <td>6.19</td>\n",
       "      <td>106120.0</td>\n",
       "    </tr>\n",
       "    <tr>\n",
       "      <th>7</th>\n",
       "      <td>2014</td>\n",
       "      <td>1</td>\n",
       "      <td>0</td>\n",
       "      <td>7</td>\n",
       "      <td>5.02</td>\n",
       "      <td>-2.53</td>\n",
       "      <td>385.8</td>\n",
       "      <td>6.19</td>\n",
       "      <td>106113.0</td>\n",
       "    </tr>\n",
       "    <tr>\n",
       "      <th>9</th>\n",
       "      <td>2014</td>\n",
       "      <td>1</td>\n",
       "      <td>0</td>\n",
       "      <td>9</td>\n",
       "      <td>4.86</td>\n",
       "      <td>-0.26</td>\n",
       "      <td>390.7</td>\n",
       "      <td>6.75</td>\n",
       "      <td>109227.0</td>\n",
       "    </tr>\n",
       "    <tr>\n",
       "      <th>...</th>\n",
       "      <td>...</td>\n",
       "      <td>...</td>\n",
       "      <td>...</td>\n",
       "      <td>...</td>\n",
       "      <td>...</td>\n",
       "      <td>...</td>\n",
       "      <td>...</td>\n",
       "      <td>...</td>\n",
       "      <td>...</td>\n",
       "    </tr>\n",
       "    <tr>\n",
       "      <th>421915</th>\n",
       "      <td>2014</td>\n",
       "      <td>293</td>\n",
       "      <td>23</td>\n",
       "      <td>55</td>\n",
       "      <td>8.33</td>\n",
       "      <td>4.55</td>\n",
       "      <td>522.6</td>\n",
       "      <td>4.46</td>\n",
       "      <td>177740.0</td>\n",
       "    </tr>\n",
       "    <tr>\n",
       "      <th>421916</th>\n",
       "      <td>2014</td>\n",
       "      <td>293</td>\n",
       "      <td>23</td>\n",
       "      <td>56</td>\n",
       "      <td>7.84</td>\n",
       "      <td>0.70</td>\n",
       "      <td>522.8</td>\n",
       "      <td>4.50</td>\n",
       "      <td>179364.0</td>\n",
       "    </tr>\n",
       "    <tr>\n",
       "      <th>421917</th>\n",
       "      <td>2014</td>\n",
       "      <td>293</td>\n",
       "      <td>23</td>\n",
       "      <td>57</td>\n",
       "      <td>7.85</td>\n",
       "      <td>1.57</td>\n",
       "      <td>507.1</td>\n",
       "      <td>5.29</td>\n",
       "      <td>192322.0</td>\n",
       "    </tr>\n",
       "    <tr>\n",
       "      <th>421918</th>\n",
       "      <td>2014</td>\n",
       "      <td>293</td>\n",
       "      <td>23</td>\n",
       "      <td>58</td>\n",
       "      <td>7.96</td>\n",
       "      <td>2.39</td>\n",
       "      <td>515.0</td>\n",
       "      <td>4.52</td>\n",
       "      <td>186061.0</td>\n",
       "    </tr>\n",
       "    <tr>\n",
       "      <th>421919</th>\n",
       "      <td>2014</td>\n",
       "      <td>293</td>\n",
       "      <td>23</td>\n",
       "      <td>59</td>\n",
       "      <td>8.26</td>\n",
       "      <td>5.16</td>\n",
       "      <td>511.4</td>\n",
       "      <td>4.94</td>\n",
       "      <td>217437.0</td>\n",
       "    </tr>\n",
       "  </tbody>\n",
       "</table>\n",
       "<p>316977 rows × 9 columns</p>\n",
       "</div>"
      ],
      "text/plain": [
       "        Year  Day  Hour  Minute  Scalar_B    BZ  Flow_speed  Proton_Density  \\\n",
       "4       2014    1     0       4      5.10 -1.43       386.2            6.29   \n",
       "5       2014    1     0       5      4.99 -1.70       386.2            6.29   \n",
       "6       2014    1     0       6      5.02 -2.11       385.8            6.19   \n",
       "7       2014    1     0       7      5.02 -2.53       385.8            6.19   \n",
       "9       2014    1     0       9      4.86 -0.26       390.7            6.75   \n",
       "...      ...  ...   ...     ...       ...   ...         ...             ...   \n",
       "421915  2014  293    23      55      8.33  4.55       522.6            4.46   \n",
       "421916  2014  293    23      56      7.84  0.70       522.8            4.50   \n",
       "421917  2014  293    23      57      7.85  1.57       507.1            5.29   \n",
       "421918  2014  293    23      58      7.96  2.39       515.0            4.52   \n",
       "421919  2014  293    23      59      8.26  5.16       511.4            4.94   \n",
       "\n",
       "        Temperature  \n",
       "4          109948.0  \n",
       "5          109948.0  \n",
       "6          106120.0  \n",
       "7          106113.0  \n",
       "9          109227.0  \n",
       "...             ...  \n",
       "421915     177740.0  \n",
       "421916     179364.0  \n",
       "421917     192322.0  \n",
       "421918     186061.0  \n",
       "421919     217437.0  \n",
       "\n",
       "[316977 rows x 9 columns]"
      ]
     },
     "execution_count": 11,
     "metadata": {},
     "output_type": "execute_result"
    }
   ],
   "source": [
    "df_true_A"
   ]
  },
  {
   "cell_type": "code",
   "execution_count": 12,
   "metadata": {},
   "outputs": [
    {
     "data": {
      "text/html": [
       "<div>\n",
       "<style scoped>\n",
       "    .dataframe tbody tr th:only-of-type {\n",
       "        vertical-align: middle;\n",
       "    }\n",
       "\n",
       "    .dataframe tbody tr th {\n",
       "        vertical-align: top;\n",
       "    }\n",
       "\n",
       "    .dataframe thead th {\n",
       "        text-align: right;\n",
       "    }\n",
       "</style>\n",
       "<table border=\"1\" class=\"dataframe\">\n",
       "  <thead>\n",
       "    <tr style=\"text-align: right;\">\n",
       "      <th></th>\n",
       "      <th>Year</th>\n",
       "      <th>Day</th>\n",
       "      <th>Hour</th>\n",
       "      <th>Minute</th>\n",
       "      <th>Scalar_B</th>\n",
       "      <th>BZ</th>\n",
       "      <th>Flow_speed</th>\n",
       "      <th>Proton_Density</th>\n",
       "      <th>Temperature</th>\n",
       "    </tr>\n",
       "  </thead>\n",
       "  <tbody>\n",
       "    <tr>\n",
       "      <th>0</th>\n",
       "      <td>2014</td>\n",
       "      <td>1</td>\n",
       "      <td>0</td>\n",
       "      <td>0</td>\n",
       "      <td>5.03</td>\n",
       "      <td>-1.22</td>\n",
       "      <td>NaN</td>\n",
       "      <td>NaN</td>\n",
       "      <td>NaN</td>\n",
       "    </tr>\n",
       "    <tr>\n",
       "      <th>1</th>\n",
       "      <td>2014</td>\n",
       "      <td>1</td>\n",
       "      <td>0</td>\n",
       "      <td>1</td>\n",
       "      <td>5.03</td>\n",
       "      <td>-1.21</td>\n",
       "      <td>NaN</td>\n",
       "      <td>NaN</td>\n",
       "      <td>NaN</td>\n",
       "    </tr>\n",
       "    <tr>\n",
       "      <th>2</th>\n",
       "      <td>2014</td>\n",
       "      <td>1</td>\n",
       "      <td>0</td>\n",
       "      <td>2</td>\n",
       "      <td>5.02</td>\n",
       "      <td>-1.18</td>\n",
       "      <td>NaN</td>\n",
       "      <td>NaN</td>\n",
       "      <td>NaN</td>\n",
       "    </tr>\n",
       "    <tr>\n",
       "      <th>3</th>\n",
       "      <td>2014</td>\n",
       "      <td>1</td>\n",
       "      <td>0</td>\n",
       "      <td>3</td>\n",
       "      <td>5.06</td>\n",
       "      <td>-1.52</td>\n",
       "      <td>NaN</td>\n",
       "      <td>NaN</td>\n",
       "      <td>NaN</td>\n",
       "    </tr>\n",
       "    <tr>\n",
       "      <th>4</th>\n",
       "      <td>2014</td>\n",
       "      <td>1</td>\n",
       "      <td>0</td>\n",
       "      <td>4</td>\n",
       "      <td>5.10</td>\n",
       "      <td>-1.43</td>\n",
       "      <td>386.2</td>\n",
       "      <td>6.29</td>\n",
       "      <td>109948.0</td>\n",
       "    </tr>\n",
       "    <tr>\n",
       "      <th>...</th>\n",
       "      <td>...</td>\n",
       "      <td>...</td>\n",
       "      <td>...</td>\n",
       "      <td>...</td>\n",
       "      <td>...</td>\n",
       "      <td>...</td>\n",
       "      <td>...</td>\n",
       "      <td>...</td>\n",
       "      <td>...</td>\n",
       "    </tr>\n",
       "    <tr>\n",
       "      <th>421915</th>\n",
       "      <td>2014</td>\n",
       "      <td>293</td>\n",
       "      <td>23</td>\n",
       "      <td>55</td>\n",
       "      <td>8.33</td>\n",
       "      <td>4.55</td>\n",
       "      <td>522.6</td>\n",
       "      <td>4.46</td>\n",
       "      <td>177740.0</td>\n",
       "    </tr>\n",
       "    <tr>\n",
       "      <th>421916</th>\n",
       "      <td>2014</td>\n",
       "      <td>293</td>\n",
       "      <td>23</td>\n",
       "      <td>56</td>\n",
       "      <td>7.84</td>\n",
       "      <td>0.70</td>\n",
       "      <td>522.8</td>\n",
       "      <td>4.50</td>\n",
       "      <td>179364.0</td>\n",
       "    </tr>\n",
       "    <tr>\n",
       "      <th>421917</th>\n",
       "      <td>2014</td>\n",
       "      <td>293</td>\n",
       "      <td>23</td>\n",
       "      <td>57</td>\n",
       "      <td>7.85</td>\n",
       "      <td>1.57</td>\n",
       "      <td>507.1</td>\n",
       "      <td>5.29</td>\n",
       "      <td>192322.0</td>\n",
       "    </tr>\n",
       "    <tr>\n",
       "      <th>421918</th>\n",
       "      <td>2014</td>\n",
       "      <td>293</td>\n",
       "      <td>23</td>\n",
       "      <td>58</td>\n",
       "      <td>7.96</td>\n",
       "      <td>2.39</td>\n",
       "      <td>515.0</td>\n",
       "      <td>4.52</td>\n",
       "      <td>186061.0</td>\n",
       "    </tr>\n",
       "    <tr>\n",
       "      <th>421919</th>\n",
       "      <td>2014</td>\n",
       "      <td>293</td>\n",
       "      <td>23</td>\n",
       "      <td>59</td>\n",
       "      <td>8.26</td>\n",
       "      <td>5.16</td>\n",
       "      <td>511.4</td>\n",
       "      <td>4.94</td>\n",
       "      <td>217437.0</td>\n",
       "    </tr>\n",
       "  </tbody>\n",
       "</table>\n",
       "<p>392867 rows × 9 columns</p>\n",
       "</div>"
      ],
      "text/plain": [
       "        Year  Day  Hour  Minute  Scalar_B    BZ  Flow_speed  Proton_Density  \\\n",
       "0       2014    1     0       0      5.03 -1.22         NaN             NaN   \n",
       "1       2014    1     0       1      5.03 -1.21         NaN             NaN   \n",
       "2       2014    1     0       2      5.02 -1.18         NaN             NaN   \n",
       "3       2014    1     0       3      5.06 -1.52         NaN             NaN   \n",
       "4       2014    1     0       4      5.10 -1.43       386.2            6.29   \n",
       "...      ...  ...   ...     ...       ...   ...         ...             ...   \n",
       "421915  2014  293    23      55      8.33  4.55       522.6            4.46   \n",
       "421916  2014  293    23      56      7.84  0.70       522.8            4.50   \n",
       "421917  2014  293    23      57      7.85  1.57       507.1            5.29   \n",
       "421918  2014  293    23      58      7.96  2.39       515.0            4.52   \n",
       "421919  2014  293    23      59      8.26  5.16       511.4            4.94   \n",
       "\n",
       "        Temperature  \n",
       "0               NaN  \n",
       "1               NaN  \n",
       "2               NaN  \n",
       "3               NaN  \n",
       "4          109948.0  \n",
       "...             ...  \n",
       "421915     177740.0  \n",
       "421916     179364.0  \n",
       "421917     192322.0  \n",
       "421918     186061.0  \n",
       "421919     217437.0  \n",
       "\n",
       "[392867 rows x 9 columns]"
      ]
     },
     "execution_count": 12,
     "metadata": {},
     "output_type": "execute_result"
    }
   ],
   "source": [
    " df_true_B"
   ]
  },
  {
   "cell_type": "code",
   "execution_count": 17,
   "metadata": {},
   "outputs": [
    {
     "name": "stderr",
     "output_type": "stream",
     "text": [
      "/home/m/anaconda3/lib/python3.7/site-packages/pandas/core/frame.py:3607: SettingWithCopyWarning: \n",
      "A value is trying to be set on a copy of a slice from a DataFrame.\n",
      "Try using .loc[row_indexer,col_indexer] = value instead\n",
      "\n",
      "See the caveats in the documentation: https://pandas.pydata.org/pandas-docs/stable/user_guide/indexing.html#returning-a-view-versus-a-copy\n",
      "  self._set_item(key, value)\n"
     ]
    }
   ],
   "source": [
    "df_true_A['index'] = df_true_A['Day']*24*60+df_true_A['Hour']*60+df_true_A['Minute']\n",
    "df_true_B['index'] = df_true_B['Day']*24*60+df_true_B['Hour']*60+df_true_B['Minute']\n",
    "df_X['index'] = df_X['Day']*24*60+df_X['Hour']*60+df_X['Minute']"
   ]
  },
  {
   "cell_type": "code",
   "execution_count": 14,
   "metadata": {},
   "outputs": [
    {
     "data": {
      "text/html": [
       "<div>\n",
       "<style scoped>\n",
       "    .dataframe tbody tr th:only-of-type {\n",
       "        vertical-align: middle;\n",
       "    }\n",
       "\n",
       "    .dataframe tbody tr th {\n",
       "        vertical-align: top;\n",
       "    }\n",
       "\n",
       "    .dataframe thead th {\n",
       "        text-align: right;\n",
       "    }\n",
       "</style>\n",
       "<table border=\"1\" class=\"dataframe\">\n",
       "  <thead>\n",
       "    <tr style=\"text-align: right;\">\n",
       "      <th></th>\n",
       "      <th>Year</th>\n",
       "      <th>Day</th>\n",
       "      <th>Hour</th>\n",
       "      <th>Minute</th>\n",
       "      <th>Scalar_B</th>\n",
       "      <th>BZ</th>\n",
       "      <th>Flow_speed</th>\n",
       "      <th>Proton_Density</th>\n",
       "      <th>Temperature</th>\n",
       "      <th>index</th>\n",
       "    </tr>\n",
       "  </thead>\n",
       "  <tbody>\n",
       "    <tr>\n",
       "      <th>4</th>\n",
       "      <td>2014</td>\n",
       "      <td>1</td>\n",
       "      <td>0</td>\n",
       "      <td>4</td>\n",
       "      <td>5.10</td>\n",
       "      <td>-1.43</td>\n",
       "      <td>386.2</td>\n",
       "      <td>6.29</td>\n",
       "      <td>109948.0</td>\n",
       "      <td>1444</td>\n",
       "    </tr>\n",
       "    <tr>\n",
       "      <th>5</th>\n",
       "      <td>2014</td>\n",
       "      <td>1</td>\n",
       "      <td>0</td>\n",
       "      <td>5</td>\n",
       "      <td>4.99</td>\n",
       "      <td>-1.70</td>\n",
       "      <td>386.2</td>\n",
       "      <td>6.29</td>\n",
       "      <td>109948.0</td>\n",
       "      <td>1445</td>\n",
       "    </tr>\n",
       "    <tr>\n",
       "      <th>6</th>\n",
       "      <td>2014</td>\n",
       "      <td>1</td>\n",
       "      <td>0</td>\n",
       "      <td>6</td>\n",
       "      <td>5.02</td>\n",
       "      <td>-2.11</td>\n",
       "      <td>385.8</td>\n",
       "      <td>6.19</td>\n",
       "      <td>106120.0</td>\n",
       "      <td>1446</td>\n",
       "    </tr>\n",
       "    <tr>\n",
       "      <th>7</th>\n",
       "      <td>2014</td>\n",
       "      <td>1</td>\n",
       "      <td>0</td>\n",
       "      <td>7</td>\n",
       "      <td>5.02</td>\n",
       "      <td>-2.53</td>\n",
       "      <td>385.8</td>\n",
       "      <td>6.19</td>\n",
       "      <td>106113.0</td>\n",
       "      <td>1447</td>\n",
       "    </tr>\n",
       "    <tr>\n",
       "      <th>9</th>\n",
       "      <td>2014</td>\n",
       "      <td>1</td>\n",
       "      <td>0</td>\n",
       "      <td>9</td>\n",
       "      <td>4.86</td>\n",
       "      <td>-0.26</td>\n",
       "      <td>390.7</td>\n",
       "      <td>6.75</td>\n",
       "      <td>109227.0</td>\n",
       "      <td>1449</td>\n",
       "    </tr>\n",
       "    <tr>\n",
       "      <th>...</th>\n",
       "      <td>...</td>\n",
       "      <td>...</td>\n",
       "      <td>...</td>\n",
       "      <td>...</td>\n",
       "      <td>...</td>\n",
       "      <td>...</td>\n",
       "      <td>...</td>\n",
       "      <td>...</td>\n",
       "      <td>...</td>\n",
       "      <td>...</td>\n",
       "    </tr>\n",
       "    <tr>\n",
       "      <th>421915</th>\n",
       "      <td>2014</td>\n",
       "      <td>293</td>\n",
       "      <td>23</td>\n",
       "      <td>55</td>\n",
       "      <td>8.33</td>\n",
       "      <td>4.55</td>\n",
       "      <td>522.6</td>\n",
       "      <td>4.46</td>\n",
       "      <td>177740.0</td>\n",
       "      <td>423355</td>\n",
       "    </tr>\n",
       "    <tr>\n",
       "      <th>421916</th>\n",
       "      <td>2014</td>\n",
       "      <td>293</td>\n",
       "      <td>23</td>\n",
       "      <td>56</td>\n",
       "      <td>7.84</td>\n",
       "      <td>0.70</td>\n",
       "      <td>522.8</td>\n",
       "      <td>4.50</td>\n",
       "      <td>179364.0</td>\n",
       "      <td>423356</td>\n",
       "    </tr>\n",
       "    <tr>\n",
       "      <th>421917</th>\n",
       "      <td>2014</td>\n",
       "      <td>293</td>\n",
       "      <td>23</td>\n",
       "      <td>57</td>\n",
       "      <td>7.85</td>\n",
       "      <td>1.57</td>\n",
       "      <td>507.1</td>\n",
       "      <td>5.29</td>\n",
       "      <td>192322.0</td>\n",
       "      <td>423357</td>\n",
       "    </tr>\n",
       "    <tr>\n",
       "      <th>421918</th>\n",
       "      <td>2014</td>\n",
       "      <td>293</td>\n",
       "      <td>23</td>\n",
       "      <td>58</td>\n",
       "      <td>7.96</td>\n",
       "      <td>2.39</td>\n",
       "      <td>515.0</td>\n",
       "      <td>4.52</td>\n",
       "      <td>186061.0</td>\n",
       "      <td>423358</td>\n",
       "    </tr>\n",
       "    <tr>\n",
       "      <th>421919</th>\n",
       "      <td>2014</td>\n",
       "      <td>293</td>\n",
       "      <td>23</td>\n",
       "      <td>59</td>\n",
       "      <td>8.26</td>\n",
       "      <td>5.16</td>\n",
       "      <td>511.4</td>\n",
       "      <td>4.94</td>\n",
       "      <td>217437.0</td>\n",
       "      <td>423359</td>\n",
       "    </tr>\n",
       "  </tbody>\n",
       "</table>\n",
       "<p>316977 rows × 10 columns</p>\n",
       "</div>"
      ],
      "text/plain": [
       "        Year  Day  Hour  Minute  Scalar_B    BZ  Flow_speed  Proton_Density  \\\n",
       "4       2014    1     0       4      5.10 -1.43       386.2            6.29   \n",
       "5       2014    1     0       5      4.99 -1.70       386.2            6.29   \n",
       "6       2014    1     0       6      5.02 -2.11       385.8            6.19   \n",
       "7       2014    1     0       7      5.02 -2.53       385.8            6.19   \n",
       "9       2014    1     0       9      4.86 -0.26       390.7            6.75   \n",
       "...      ...  ...   ...     ...       ...   ...         ...             ...   \n",
       "421915  2014  293    23      55      8.33  4.55       522.6            4.46   \n",
       "421916  2014  293    23      56      7.84  0.70       522.8            4.50   \n",
       "421917  2014  293    23      57      7.85  1.57       507.1            5.29   \n",
       "421918  2014  293    23      58      7.96  2.39       515.0            4.52   \n",
       "421919  2014  293    23      59      8.26  5.16       511.4            4.94   \n",
       "\n",
       "        Temperature   index  \n",
       "4          109948.0    1444  \n",
       "5          109948.0    1445  \n",
       "6          106120.0    1446  \n",
       "7          106113.0    1447  \n",
       "9          109227.0    1449  \n",
       "...             ...     ...  \n",
       "421915     177740.0  423355  \n",
       "421916     179364.0  423356  \n",
       "421917     192322.0  423357  \n",
       "421918     186061.0  423358  \n",
       "421919     217437.0  423359  \n",
       "\n",
       "[316977 rows x 10 columns]"
      ]
     },
     "execution_count": 14,
     "metadata": {},
     "output_type": "execute_result"
    }
   ],
   "source": [
    "df_true_A"
   ]
  },
  {
   "cell_type": "code",
   "execution_count": 15,
   "metadata": {},
   "outputs": [],
   "source": [
    "from scipy.interpolate import Rbf, InterpolatedUnivariateSpline"
   ]
  },
  {
   "cell_type": "code",
   "execution_count": null,
   "metadata": {},
   "outputs": [],
   "source": [
    "x = df_true_B['index'].to_numpy()[:100000]\n",
    "y = df_true_B['Scalar_B'].to_numpy()[:100000]\n",
    "# ius = InterpolatedUnivariateSpline(x, y)\n",
    "ius = Rbf(x, y)\n",
    "\n",
    "x_ = df_X['index'].to_numpy()\n",
    "y_ = ius(df_X['index'].to_numpy())"
   ]
  },
  {
   "cell_type": "code",
   "execution_count": 73,
   "metadata": {},
   "outputs": [
    {
     "data": {
      "image/png": "[encoded data removed]",
      "text/plain": [
       "<Figure size 1296x720 with 1 Axes>"
      ]
     },
     "metadata": {
      "needs_background": "light"
     },
     "output_type": "display_data"
    }
   ],
   "source": [
    "plt.figure(figsize=(18,10))\n",
    "plt.plot(x_, y_, 'bo')\n",
    "plt.plot(x, y, 'ro')\n",
    "t=61000\n",
    "plt.xlim((t,t+10000))\n",
    "plt.grid()\n",
    "# plt.savefig('/home/m/Desktop/pic.pdf', format='pdf')"
   ]
  }
 ],
 "metadata": {
  "kernelspec": {
   "display_name": "Python 3",
   "language": "python",
   "name": "python3"
  },
  "language_info": {
   "codemirror_mode": {
    "name": "ipython",
    "version": 3
   },
   "file_extension": ".py",
   "mimetype": "text/x-python",
   "name": "python",
   "nbconvert_exporter": "python",
   "pygments_lexer": "ipython3",
   "version": "3.7.6"
  }
 },
 "nbformat": 4,
 "nbformat_minor": 4
}
